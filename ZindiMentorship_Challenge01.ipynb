{
 "cells": [
  {
   "cell_type": "markdown",
   "metadata": {},
   "source": [
    "###### About the Challenge:"
   ]
  },
  {
   "cell_type": "markdown",
   "metadata": {},
   "source": [
    "##### Financial inclusion in Africa:\n",
    "\n",
    "The challenge hosted by Zindi Africa Data science platform for Zindi_mentorship data scientist(#challenge1)\n",
    "    \n",
    "The challenge objective is about to develop the Machine Learning Model to  predict the likehood of people \n",
    "\n",
    "to have the bank account or not from data sets colleted based on east African countries.\n",
    "    \n",
    "The Evaluation metric of this challenge is error_rate(1 - accuracy_score)"
   ]
  },
  {
   "cell_type": "markdown",
   "metadata": {},
   "source": [
    "######  Import Libraries"
   ]
  },
  {
   "cell_type": "code",
   "execution_count": 143,
   "metadata": {},
   "outputs": [],
   "source": [
    "# import important modules \n",
    "\n",
    "## For Loading data\n",
    "#\n",
    "import pandas as pd\n",
    "\n",
    "## For computational & statistical analysis\n",
    "#\n",
    "import numpy as np\n",
    "\n",
    "## For Visualization \n",
    "#\n",
    "import matplotlib.pyplot as plt\n",
    "import seaborn as sns\n",
    "\n",
    "## Preprocessing Module\n",
    "#\n",
    "#TQDM is a progress bar library with good support for nested loops and Jupyter/IPython notebooks.\n",
    "\n",
    "from tqdm import tqdm\n",
    "import math\n",
    "import gc\n",
    "from sklearn.preprocessing import LabelEncoder\n",
    "le = LabelEncoder()\n",
    "from sklearn.preprocessing import MinMaxScaler\n",
    "\n",
    "\n",
    "## Modelling \n",
    "#\n",
    "from xgboost import XGBClassifier\n",
    "from catboost import CatBoostClassifier, FeaturesData, Pool\n",
    "import lightgbm as lgb\n",
    "from sklearn.model_selection import GridSearchCV\n",
    "from sklearn.model_selection import train_test_split\n",
    "\n",
    "## Model Evaluation\n",
    "#\n",
    "from sklearn.metrics import confusion_matrix, accuracy_score\n",
    "\n",
    "import warnings\n",
    "warnings.filterwarnings('ignore')\n",
    "%matplotlib inline"
   ]
  },
  {
   "cell_type": "markdown",
   "metadata": {},
   "source": [
    "##### Loading Data"
   ]
  },
  {
   "cell_type": "code",
   "execution_count": 53,
   "metadata": {},
   "outputs": [],
   "source": [
    "train_df= pd.read_csv(\"../Train_v2.csv\")\n",
    "test_df = pd.read_csv(\"../Test_v2.csv\")\n",
    "sub = pd.read_csv(\"../SubmissionFile.csv\")\n",
    "variable_desc =pd.read_csv(\"../VariableDefinitions.csv\")\n"
   ]
  },
  {
   "cell_type": "code",
   "execution_count": 54,
   "metadata": {},
   "outputs": [
    {
     "name": "stdout",
     "output_type": "stream",
     "text": [
      "train data shape : (23524, 13)\n",
      "test data shape : (10086, 12)\n"
     ]
    }
   ],
   "source": [
    "# print shape \n",
    "print('train data shape :', train_df.shape)\n",
    "print('test data shape :', test_df.shape)"
   ]
  },
  {
   "cell_type": "code",
   "execution_count": 55,
   "metadata": {},
   "outputs": [
    {
     "data": {
      "text/html": [
       "<div>\n",
       "<style scoped>\n",
       "    .dataframe tbody tr th:only-of-type {\n",
       "        vertical-align: middle;\n",
       "    }\n",
       "\n",
       "    .dataframe tbody tr th {\n",
       "        vertical-align: top;\n",
       "    }\n",
       "\n",
       "    .dataframe thead th {\n",
       "        text-align: right;\n",
       "    }\n",
       "</style>\n",
       "<table border=\"1\" class=\"dataframe\">\n",
       "  <thead>\n",
       "    <tr style=\"text-align: right;\">\n",
       "      <th></th>\n",
       "      <th>country</th>\n",
       "      <th>year</th>\n",
       "      <th>uniqueid</th>\n",
       "      <th>bank_account</th>\n",
       "      <th>location_type</th>\n",
       "      <th>cellphone_access</th>\n",
       "      <th>household_size</th>\n",
       "      <th>age_of_respondent</th>\n",
       "      <th>gender_of_respondent</th>\n",
       "      <th>relationship_with_head</th>\n",
       "      <th>marital_status</th>\n",
       "      <th>education_level</th>\n",
       "      <th>job_type</th>\n",
       "    </tr>\n",
       "  </thead>\n",
       "  <tbody>\n",
       "    <tr>\n",
       "      <th>0</th>\n",
       "      <td>Kenya</td>\n",
       "      <td>2018</td>\n",
       "      <td>uniqueid_1</td>\n",
       "      <td>Yes</td>\n",
       "      <td>Rural</td>\n",
       "      <td>Yes</td>\n",
       "      <td>3</td>\n",
       "      <td>24</td>\n",
       "      <td>Female</td>\n",
       "      <td>Spouse</td>\n",
       "      <td>Married/Living together</td>\n",
       "      <td>Secondary education</td>\n",
       "      <td>Self employed</td>\n",
       "    </tr>\n",
       "    <tr>\n",
       "      <th>1</th>\n",
       "      <td>Kenya</td>\n",
       "      <td>2018</td>\n",
       "      <td>uniqueid_2</td>\n",
       "      <td>No</td>\n",
       "      <td>Rural</td>\n",
       "      <td>No</td>\n",
       "      <td>5</td>\n",
       "      <td>70</td>\n",
       "      <td>Female</td>\n",
       "      <td>Head of Household</td>\n",
       "      <td>Widowed</td>\n",
       "      <td>No formal education</td>\n",
       "      <td>Government Dependent</td>\n",
       "    </tr>\n",
       "    <tr>\n",
       "      <th>2</th>\n",
       "      <td>Kenya</td>\n",
       "      <td>2018</td>\n",
       "      <td>uniqueid_3</td>\n",
       "      <td>Yes</td>\n",
       "      <td>Urban</td>\n",
       "      <td>Yes</td>\n",
       "      <td>5</td>\n",
       "      <td>26</td>\n",
       "      <td>Male</td>\n",
       "      <td>Other relative</td>\n",
       "      <td>Single/Never Married</td>\n",
       "      <td>Vocational/Specialised training</td>\n",
       "      <td>Self employed</td>\n",
       "    </tr>\n",
       "    <tr>\n",
       "      <th>3</th>\n",
       "      <td>Kenya</td>\n",
       "      <td>2018</td>\n",
       "      <td>uniqueid_4</td>\n",
       "      <td>No</td>\n",
       "      <td>Rural</td>\n",
       "      <td>Yes</td>\n",
       "      <td>5</td>\n",
       "      <td>34</td>\n",
       "      <td>Female</td>\n",
       "      <td>Head of Household</td>\n",
       "      <td>Married/Living together</td>\n",
       "      <td>Primary education</td>\n",
       "      <td>Formally employed Private</td>\n",
       "    </tr>\n",
       "    <tr>\n",
       "      <th>4</th>\n",
       "      <td>Kenya</td>\n",
       "      <td>2018</td>\n",
       "      <td>uniqueid_5</td>\n",
       "      <td>No</td>\n",
       "      <td>Urban</td>\n",
       "      <td>No</td>\n",
       "      <td>8</td>\n",
       "      <td>26</td>\n",
       "      <td>Male</td>\n",
       "      <td>Child</td>\n",
       "      <td>Single/Never Married</td>\n",
       "      <td>Primary education</td>\n",
       "      <td>Informally employed</td>\n",
       "    </tr>\n",
       "  </tbody>\n",
       "</table>\n",
       "</div>"
      ],
      "text/plain": [
       "  country  year    uniqueid bank_account location_type cellphone_access  \\\n",
       "0   Kenya  2018  uniqueid_1          Yes         Rural              Yes   \n",
       "1   Kenya  2018  uniqueid_2           No         Rural               No   \n",
       "2   Kenya  2018  uniqueid_3          Yes         Urban              Yes   \n",
       "3   Kenya  2018  uniqueid_4           No         Rural              Yes   \n",
       "4   Kenya  2018  uniqueid_5           No         Urban               No   \n",
       "\n",
       "   household_size  age_of_respondent gender_of_respondent  \\\n",
       "0               3                 24               Female   \n",
       "1               5                 70               Female   \n",
       "2               5                 26                 Male   \n",
       "3               5                 34               Female   \n",
       "4               8                 26                 Male   \n",
       "\n",
       "  relationship_with_head           marital_status  \\\n",
       "0                 Spouse  Married/Living together   \n",
       "1      Head of Household                  Widowed   \n",
       "2         Other relative     Single/Never Married   \n",
       "3      Head of Household  Married/Living together   \n",
       "4                  Child     Single/Never Married   \n",
       "\n",
       "                   education_level                   job_type  \n",
       "0              Secondary education              Self employed  \n",
       "1              No formal education       Government Dependent  \n",
       "2  Vocational/Specialised training              Self employed  \n",
       "3                Primary education  Formally employed Private  \n",
       "4                Primary education        Informally employed  "
      ]
     },
     "execution_count": 55,
     "metadata": {},
     "output_type": "execute_result"
    }
   ],
   "source": [
    "# Inspect train Data\n",
    "train_df.head()"
   ]
  },
  {
   "cell_type": "code",
   "execution_count": 56,
   "metadata": {},
   "outputs": [
    {
     "data": {
      "text/html": [
       "<div>\n",
       "<style scoped>\n",
       "    .dataframe tbody tr th:only-of-type {\n",
       "        vertical-align: middle;\n",
       "    }\n",
       "\n",
       "    .dataframe tbody tr th {\n",
       "        vertical-align: top;\n",
       "    }\n",
       "\n",
       "    .dataframe thead th {\n",
       "        text-align: right;\n",
       "    }\n",
       "</style>\n",
       "<table border=\"1\" class=\"dataframe\">\n",
       "  <thead>\n",
       "    <tr style=\"text-align: right;\">\n",
       "      <th></th>\n",
       "      <th>country</th>\n",
       "      <th>year</th>\n",
       "      <th>uniqueid</th>\n",
       "      <th>location_type</th>\n",
       "      <th>cellphone_access</th>\n",
       "      <th>household_size</th>\n",
       "      <th>age_of_respondent</th>\n",
       "      <th>gender_of_respondent</th>\n",
       "      <th>relationship_with_head</th>\n",
       "      <th>marital_status</th>\n",
       "      <th>education_level</th>\n",
       "      <th>job_type</th>\n",
       "    </tr>\n",
       "  </thead>\n",
       "  <tbody>\n",
       "    <tr>\n",
       "      <th>0</th>\n",
       "      <td>Kenya</td>\n",
       "      <td>2018</td>\n",
       "      <td>uniqueid_6056</td>\n",
       "      <td>Urban</td>\n",
       "      <td>Yes</td>\n",
       "      <td>3</td>\n",
       "      <td>30</td>\n",
       "      <td>Male</td>\n",
       "      <td>Head of Household</td>\n",
       "      <td>Married/Living together</td>\n",
       "      <td>Secondary education</td>\n",
       "      <td>Formally employed Government</td>\n",
       "    </tr>\n",
       "    <tr>\n",
       "      <th>1</th>\n",
       "      <td>Kenya</td>\n",
       "      <td>2018</td>\n",
       "      <td>uniqueid_6060</td>\n",
       "      <td>Urban</td>\n",
       "      <td>Yes</td>\n",
       "      <td>7</td>\n",
       "      <td>51</td>\n",
       "      <td>Male</td>\n",
       "      <td>Head of Household</td>\n",
       "      <td>Married/Living together</td>\n",
       "      <td>Vocational/Specialised training</td>\n",
       "      <td>Formally employed Private</td>\n",
       "    </tr>\n",
       "    <tr>\n",
       "      <th>2</th>\n",
       "      <td>Kenya</td>\n",
       "      <td>2018</td>\n",
       "      <td>uniqueid_6065</td>\n",
       "      <td>Rural</td>\n",
       "      <td>No</td>\n",
       "      <td>3</td>\n",
       "      <td>77</td>\n",
       "      <td>Female</td>\n",
       "      <td>Parent</td>\n",
       "      <td>Married/Living together</td>\n",
       "      <td>No formal education</td>\n",
       "      <td>Remittance Dependent</td>\n",
       "    </tr>\n",
       "    <tr>\n",
       "      <th>3</th>\n",
       "      <td>Kenya</td>\n",
       "      <td>2018</td>\n",
       "      <td>uniqueid_6072</td>\n",
       "      <td>Rural</td>\n",
       "      <td>No</td>\n",
       "      <td>6</td>\n",
       "      <td>39</td>\n",
       "      <td>Female</td>\n",
       "      <td>Head of Household</td>\n",
       "      <td>Married/Living together</td>\n",
       "      <td>Primary education</td>\n",
       "      <td>Remittance Dependent</td>\n",
       "    </tr>\n",
       "    <tr>\n",
       "      <th>4</th>\n",
       "      <td>Kenya</td>\n",
       "      <td>2018</td>\n",
       "      <td>uniqueid_6073</td>\n",
       "      <td>Urban</td>\n",
       "      <td>No</td>\n",
       "      <td>3</td>\n",
       "      <td>16</td>\n",
       "      <td>Male</td>\n",
       "      <td>Child</td>\n",
       "      <td>Single/Never Married</td>\n",
       "      <td>Secondary education</td>\n",
       "      <td>Remittance Dependent</td>\n",
       "    </tr>\n",
       "  </tbody>\n",
       "</table>\n",
       "</div>"
      ],
      "text/plain": [
       "  country  year       uniqueid location_type cellphone_access  household_size  \\\n",
       "0   Kenya  2018  uniqueid_6056         Urban              Yes               3   \n",
       "1   Kenya  2018  uniqueid_6060         Urban              Yes               7   \n",
       "2   Kenya  2018  uniqueid_6065         Rural               No               3   \n",
       "3   Kenya  2018  uniqueid_6072         Rural               No               6   \n",
       "4   Kenya  2018  uniqueid_6073         Urban               No               3   \n",
       "\n",
       "   age_of_respondent gender_of_respondent relationship_with_head  \\\n",
       "0                 30                 Male      Head of Household   \n",
       "1                 51                 Male      Head of Household   \n",
       "2                 77               Female                 Parent   \n",
       "3                 39               Female      Head of Household   \n",
       "4                 16                 Male                  Child   \n",
       "\n",
       "            marital_status                  education_level  \\\n",
       "0  Married/Living together              Secondary education   \n",
       "1  Married/Living together  Vocational/Specialised training   \n",
       "2  Married/Living together              No formal education   \n",
       "3  Married/Living together                Primary education   \n",
       "4     Single/Never Married              Secondary education   \n",
       "\n",
       "                       job_type  \n",
       "0  Formally employed Government  \n",
       "1     Formally employed Private  \n",
       "2          Remittance Dependent  \n",
       "3          Remittance Dependent  \n",
       "4          Remittance Dependent  "
      ]
     },
     "execution_count": 56,
     "metadata": {},
     "output_type": "execute_result"
    }
   ],
   "source": [
    "# Inspect test Data\n",
    "test_df.head()"
   ]
  },
  {
   "cell_type": "markdown",
   "metadata": {},
   "source": [
    "**Note:** Open the VariableDefinition file to understand the meaning of each variable in this dataset"
   ]
  },
  {
   "cell_type": "code",
   "execution_count": 57,
   "metadata": {},
   "outputs": [],
   "source": [
    "# variable_desc"
   ]
  },
  {
   "cell_type": "code",
   "execution_count": 58,
   "metadata": {},
   "outputs": [
    {
     "data": {
      "text/html": [
       "<div>\n",
       "<style scoped>\n",
       "    .dataframe tbody tr th:only-of-type {\n",
       "        vertical-align: middle;\n",
       "    }\n",
       "\n",
       "    .dataframe tbody tr th {\n",
       "        vertical-align: top;\n",
       "    }\n",
       "\n",
       "    .dataframe thead th {\n",
       "        text-align: right;\n",
       "    }\n",
       "</style>\n",
       "<table border=\"1\" class=\"dataframe\">\n",
       "  <thead>\n",
       "    <tr style=\"text-align: right;\">\n",
       "      <th></th>\n",
       "      <th>count</th>\n",
       "      <th>mean</th>\n",
       "      <th>std</th>\n",
       "      <th>min</th>\n",
       "      <th>25%</th>\n",
       "      <th>50%</th>\n",
       "      <th>75%</th>\n",
       "      <th>max</th>\n",
       "    </tr>\n",
       "  </thead>\n",
       "  <tbody>\n",
       "    <tr>\n",
       "      <th>year</th>\n",
       "      <td>23524.0</td>\n",
       "      <td>2016.975939</td>\n",
       "      <td>0.847371</td>\n",
       "      <td>2016.0</td>\n",
       "      <td>2016.0</td>\n",
       "      <td>2017.0</td>\n",
       "      <td>2018.0</td>\n",
       "      <td>2018.0</td>\n",
       "    </tr>\n",
       "    <tr>\n",
       "      <th>household_size</th>\n",
       "      <td>23524.0</td>\n",
       "      <td>3.797483</td>\n",
       "      <td>2.227613</td>\n",
       "      <td>1.0</td>\n",
       "      <td>2.0</td>\n",
       "      <td>3.0</td>\n",
       "      <td>5.0</td>\n",
       "      <td>21.0</td>\n",
       "    </tr>\n",
       "    <tr>\n",
       "      <th>age_of_respondent</th>\n",
       "      <td>23524.0</td>\n",
       "      <td>38.805220</td>\n",
       "      <td>16.520569</td>\n",
       "      <td>16.0</td>\n",
       "      <td>26.0</td>\n",
       "      <td>35.0</td>\n",
       "      <td>49.0</td>\n",
       "      <td>100.0</td>\n",
       "    </tr>\n",
       "  </tbody>\n",
       "</table>\n",
       "</div>"
      ],
      "text/plain": [
       "                     count         mean        std     min     25%     50%  \\\n",
       "year               23524.0  2016.975939   0.847371  2016.0  2016.0  2017.0   \n",
       "household_size     23524.0     3.797483   2.227613     1.0     2.0     3.0   \n",
       "age_of_respondent  23524.0    38.805220  16.520569    16.0    26.0    35.0   \n",
       "\n",
       "                      75%     max  \n",
       "year               2018.0  2018.0  \n",
       "household_size        5.0    21.0  \n",
       "age_of_respondent    49.0   100.0  "
      ]
     },
     "execution_count": 58,
     "metadata": {},
     "output_type": "execute_result"
    }
   ],
   "source": [
    "train_df.describe().T"
   ]
  },
  {
   "cell_type": "code",
   "execution_count": 59,
   "metadata": {},
   "outputs": [
    {
     "name": "stdout",
     "output_type": "stream",
     "text": [
      "<class 'pandas.core.frame.DataFrame'>\n",
      "RangeIndex: 23524 entries, 0 to 23523\n",
      "Data columns (total 13 columns):\n",
      "country                   23524 non-null object\n",
      "year                      23524 non-null int64\n",
      "uniqueid                  23524 non-null object\n",
      "bank_account              23524 non-null object\n",
      "location_type             23524 non-null object\n",
      "cellphone_access          23524 non-null object\n",
      "household_size            23524 non-null int64\n",
      "age_of_respondent         23524 non-null int64\n",
      "gender_of_respondent      23524 non-null object\n",
      "relationship_with_head    23524 non-null object\n",
      "marital_status            23524 non-null object\n",
      "education_level           23524 non-null object\n",
      "job_type                  23524 non-null object\n",
      "dtypes: int64(3), object(10)\n",
      "memory usage: 2.3+ MB\n"
     ]
    }
   ],
   "source": [
    "#inspect informations of train datasets \n",
    "\n",
    "train_df.info()"
   ]
  },
  {
   "cell_type": "markdown",
   "metadata": {},
   "source": [
    "### Explolatory Data Analysis \n",
    "\n",
    "This is the process of finding some insights from you dataset before create predictive models.\n",
    "\n",
    "- Lets make assumptions before:\n",
    "    \n",
    "    - People with mobile(cell_phone owners) likely to have no bank account, probably likely to use mobile money.\n",
    "    \n",
    "    - People located at Rural may lack bank account due to their Location.\n",
    "    \n",
    "    - How about the Age of respodents?\n",
    "    \n",
    "    - How about the gender of respondent? (male/Female)\n",
    "    \n",
    "    - How about job_type ? (Mostly of people with permanent job are likely to posses bank_account)\n",
    "    \n",
    "    - People with high education level are more likely to have bank account\n",
    "    "
   ]
  },
  {
   "cell_type": "markdown",
   "metadata": {},
   "source": [
    "From the Assumptions made , will guide to make better **EDA**"
   ]
  },
  {
   "cell_type": "code",
   "execution_count": 60,
   "metadata": {},
   "outputs": [
    {
     "data": {
      "text/plain": [
       "Index(['country', 'year', 'uniqueid', 'bank_account', 'location_type',\n",
       "       'cellphone_access', 'household_size', 'age_of_respondent',\n",
       "       'gender_of_respondent', 'relationship_with_head', 'marital_status',\n",
       "       'education_level', 'job_type'],\n",
       "      dtype='object')"
      ]
     },
     "execution_count": 60,
     "metadata": {},
     "output_type": "execute_result"
    }
   ],
   "source": [
    "# Lets check train columns\n",
    "\n",
    "train_df.columns"
   ]
  },
  {
   "cell_type": "code",
   "execution_count": 61,
   "metadata": {},
   "outputs": [
    {
     "name": "stdout",
     "output_type": "stream",
     "text": [
      "missing values: country                   0\n",
      "year                      0\n",
      "uniqueid                  0\n",
      "bank_account              0\n",
      "location_type             0\n",
      "cellphone_access          0\n",
      "household_size            0\n",
      "age_of_respondent         0\n",
      "gender_of_respondent      0\n",
      "relationship_with_head    0\n",
      "marital_status            0\n",
      "education_level           0\n",
      "job_type                  0\n",
      "dtype: int64\n"
     ]
    }
   ],
   "source": [
    "# lests check missing values (train set)\n",
    "\n",
    "print('missing values:', train_df.isnull().sum())"
   ]
  },
  {
   "cell_type": "code",
   "execution_count": 62,
   "metadata": {},
   "outputs": [
    {
     "name": "stdout",
     "output_type": "stream",
     "text": [
      "missing values: country                   0\n",
      "year                      0\n",
      "uniqueid                  0\n",
      "location_type             0\n",
      "cellphone_access          0\n",
      "household_size            0\n",
      "age_of_respondent         0\n",
      "gender_of_respondent      0\n",
      "relationship_with_head    0\n",
      "marital_status            0\n",
      "education_level           0\n",
      "job_type                  0\n",
      "dtype: int64\n"
     ]
    }
   ],
   "source": [
    "# lests check missing values (test set)\n",
    "\n",
    "print('missing values:', test_df.isnull().sum())"
   ]
  },
  {
   "cell_type": "markdown",
   "metadata": {},
   "source": [
    "**No missing value from both train & test sets so Now I can go to Analysis**"
   ]
  },
  {
   "cell_type": "code",
   "execution_count": 63,
   "metadata": {},
   "outputs": [
    {
     "data": {
      "text/plain": [
       "<seaborn.axisgrid.FacetGrid at 0x7f522b2ad748>"
      ]
     },
     "execution_count": 63,
     "metadata": {},
     "output_type": "execute_result"
    },
    {
     "data": {
      "image/png": "[encoded data removed]",
      "text/plain": [
       "<Figure size 360x360 with 1 Axes>"
      ]
     },
     "metadata": {
      "needs_background": "light"
     },
     "output_type": "display_data"
    }
   ],
   "source": [
    "# Lets check Distribution of the target column\n",
    "\n",
    "sns.catplot(x=\"bank_account\", kind=\"count\", data=train_df)"
   ]
  },
  {
   "cell_type": "markdown",
   "metadata": {},
   "source": [
    "**From the graph tell that the target classes are not well balanced, more respondent has No bank_account**"
   ]
  },
  {
   "cell_type": "code",
   "execution_count": 64,
   "metadata": {},
   "outputs": [
    {
     "data": {
      "text/plain": [
       "<seaborn.axisgrid.FacetGrid at 0x7f522a45a630>"
      ]
     },
     "execution_count": 64,
     "metadata": {},
     "output_type": "execute_result"
    },
    {
     "data": {
      "image/png": "[encoded data removed]",
      "text/plain": [
       "<Figure size 360x360 with 1 Axes>"
      ]
     },
     "metadata": {
      "needs_background": "light"
     },
     "output_type": "display_data"
    }
   ],
   "source": [
    "# Explore Country distribution \n",
    "\n",
    "sns.catplot(x=\"country\", kind=\"count\", data=train_df)"
   ]
  },
  {
   "cell_type": "markdown",
   "metadata": {},
   "source": [
    "**Rwanda leads the number of respondent**"
   ]
  },
  {
   "cell_type": "code",
   "execution_count": 65,
   "metadata": {},
   "outputs": [
    {
     "data": {
      "text/plain": [
       "<matplotlib.axes._subplots.AxesSubplot at 0x7f522c559128>"
      ]
     },
     "execution_count": 65,
     "metadata": {},
     "output_type": "execute_result"
    },
    {
     "data": {
      "image/png": "[encoded data removed]",
      "text/plain": [
       "<Figure size 432x288 with 1 Axes>"
      ]
     },
     "metadata": {
      "needs_background": "light"
     },
     "output_type": "display_data"
    }
   ],
   "source": [
    "# Lets check Distribution of target  & country column\n",
    "\n",
    "sns.countplot('country', hue= 'bank_account', data=train_df)"
   ]
  },
  {
   "cell_type": "markdown",
   "metadata": {},
   "source": [
    "**Kenya, leads on respondent with bank account possessionfollowed by rwanda and Tanzania**\n",
    "\n",
    "**Rwanda & Tanzania, leads on respondent with no bank account**"
   ]
  },
  {
   "cell_type": "code",
   "execution_count": 66,
   "metadata": {},
   "outputs": [
    {
     "data": {
      "text/plain": [
       "<seaborn.axisgrid.FacetGrid at 0x7f522c559a90>"
      ]
     },
     "execution_count": 66,
     "metadata": {},
     "output_type": "execute_result"
    },
    {
     "data": {
      "image/png": "[encoded data removed]",
      "text/plain": [
       "<Figure size 360x360 with 1 Axes>"
      ]
     },
     "metadata": {
      "needs_background": "light"
     },
     "output_type": "display_data"
    }
   ],
   "source": [
    "# Explore Location distribution \n",
    "\n",
    "sns.catplot(x=\"location_type\", kind=\"count\", data=train_df)"
   ]
  },
  {
   "cell_type": "markdown",
   "metadata": {},
   "source": [
    "**Most of Respondent were from Rural compared to those located at Urban**"
   ]
  },
  {
   "cell_type": "code",
   "execution_count": 67,
   "metadata": {},
   "outputs": [
    {
     "data": {
      "text/plain": [
       "<matplotlib.axes._subplots.AxesSubplot at 0x7f522b108828>"
      ]
     },
     "execution_count": 67,
     "metadata": {},
     "output_type": "execute_result"
    },
    {
     "data": {
      "image/png": "[encoded data removed]",
      "text/plain": [
       "<Figure size 432x288 with 1 Axes>"
      ]
     },
     "metadata": {
      "needs_background": "light"
     },
     "output_type": "display_data"
    }
   ],
   "source": [
    "# Lets check Distribution of target  & location_type column\n",
    "\n",
    "sns.countplot('location_type', hue= 'bank_account', data=train_df)"
   ]
  },
  {
   "cell_type": "markdown",
   "metadata": {},
   "source": [
    "**Most of respondent located at Rural has no bank account compared to those at Urban**"
   ]
  },
  {
   "cell_type": "code",
   "execution_count": 68,
   "metadata": {},
   "outputs": [
    {
     "data": {
      "text/plain": [
       "<seaborn.axisgrid.FacetGrid at 0x7f522b0cd400>"
      ]
     },
     "execution_count": 68,
     "metadata": {},
     "output_type": "execute_result"
    },
    {
     "data": {
      "image/png": "[encoded data removed]",
      "text/plain": [
       "<Figure size 360x360 with 1 Axes>"
      ]
     },
     "metadata": {
      "needs_background": "light"
     },
     "output_type": "display_data"
    }
   ],
   "source": [
    "# Explore Years distribution \n",
    "\n",
    "sns.catplot(x=\"year\", kind=\"count\", data=train_df)"
   ]
  },
  {
   "cell_type": "markdown",
   "metadata": {},
   "source": [
    "**Most of Data collected in 2016**"
   ]
  },
  {
   "cell_type": "code",
   "execution_count": 69,
   "metadata": {},
   "outputs": [
    {
     "data": {
      "text/plain": [
       "<seaborn.axisgrid.FacetGrid at 0x7f522b102ef0>"
      ]
     },
     "execution_count": 69,
     "metadata": {},
     "output_type": "execute_result"
    },
    {
     "data": {
      "image/png": "[encoded data removed]",
      "text/plain": [
       "<Figure size 360x360 with 1 Axes>"
      ]
     },
     "metadata": {
      "needs_background": "light"
     },
     "output_type": "display_data"
    }
   ],
   "source": [
    "# Explore cellphone_access distribution \n",
    "\n",
    "sns.catplot(x=\"cellphone_access\", kind=\"count\", data=train_df)"
   ]
  },
  {
   "cell_type": "markdown",
   "metadata": {},
   "source": [
    "**Most of the particiapants have access to the cellphone**"
   ]
  },
  {
   "cell_type": "code",
   "execution_count": 70,
   "metadata": {},
   "outputs": [
    {
     "data": {
      "text/plain": [
       "<matplotlib.axes._subplots.AxesSubplot at 0x7f522afdd320>"
      ]
     },
     "execution_count": 70,
     "metadata": {},
     "output_type": "execute_result"
    },
    {
     "data": {
      "image/png": "[encoded data removed]",
      "text/plain": [
       "<Figure size 432x288 with 1 Axes>"
      ]
     },
     "metadata": {
      "needs_background": "light"
     },
     "output_type": "display_data"
    }
   ],
   "source": [
    "# Lets check Distribution of target  & cellphone_access column\n",
    "\n",
    "sns.countplot('cellphone_access', hue= 'bank_account', data=train_df)"
   ]
  },
  {
   "cell_type": "markdown",
   "metadata": {},
   "source": [
    "**Most of respondent with cellphone has no bank account**"
   ]
  },
  {
   "cell_type": "code",
   "execution_count": 71,
   "metadata": {},
   "outputs": [
    {
     "data": {
      "text/plain": [
       "<seaborn.axisgrid.FacetGrid at 0x7f522b045b00>"
      ]
     },
     "execution_count": 71,
     "metadata": {},
     "output_type": "execute_result"
    },
    {
     "data": {
      "image/png": "[encoded data removed]",
      "text/plain": [
       "<Figure size 360x360 with 1 Axes>"
      ]
     },
     "metadata": {
      "needs_background": "light"
     },
     "output_type": "display_data"
    }
   ],
   "source": [
    "# Explore gender_of_respondents distribution \n",
    "\n",
    "sns.catplot(x=\"gender_of_respondent\", kind=\"count\", data=train_df)"
   ]
  },
  {
   "cell_type": "markdown",
   "metadata": {},
   "source": [
    "**Most of Respondent were Female**"
   ]
  },
  {
   "cell_type": "code",
   "execution_count": 72,
   "metadata": {},
   "outputs": [
    {
     "data": {
      "text/plain": [
       "<matplotlib.axes._subplots.AxesSubplot at 0x7f522af139e8>"
      ]
     },
     "execution_count": 72,
     "metadata": {},
     "output_type": "execute_result"
    },
    {
     "data": {
      "image/png": "[encoded data removed]",
      "text/plain": [
       "<Figure size 432x288 with 1 Axes>"
      ]
     },
     "metadata": {
      "needs_background": "light"
     },
     "output_type": "display_data"
    }
   ],
   "source": [
    "# Lets check Distribution of target  & gender_of_respondent column\n",
    "\n",
    "sns.countplot('gender_of_respondent', hue= 'bank_account', data=train_df)"
   ]
  },
  {
   "cell_type": "markdown",
   "metadata": {},
   "source": [
    "**Most of Female respondent has no Bank account compared to Male Respondent**"
   ]
  },
  {
   "cell_type": "code",
   "execution_count": 73,
   "metadata": {},
   "outputs": [
    {
     "data": {
      "text/plain": [
       "(array([0, 1, 2, 3, 4, 5]), <a list of 6 Text xticklabel objects>)"
      ]
     },
     "execution_count": 73,
     "metadata": {},
     "output_type": "execute_result"
    },
    {
     "data": {
      "image/png": "[encoded data removed]",
      "text/plain": [
       "<Figure size 360x360 with 1 Axes>"
      ]
     },
     "metadata": {
      "needs_background": "light"
     },
     "output_type": "display_data"
    }
   ],
   "source": [
    "# Explore relationship_with_head distribution \n",
    "\n",
    "chart = sns.catplot(x=\"relationship_with_head\", kind=\"count\", data=train_df);\n",
    "\n",
    "plt.xticks(\n",
    "    rotation=45, \n",
    "    horizontalalignment='right',\n",
    "    fontweight='light',\n",
    "    fontsize='x-large'  \n",
    ")"
   ]
  },
  {
   "cell_type": "markdown",
   "metadata": {},
   "source": [
    "**We have more head of Household particants and few other non-relatives**"
   ]
  },
  {
   "cell_type": "code",
   "execution_count": 74,
   "metadata": {},
   "outputs": [
    {
     "data": {
      "text/plain": [
       "(array([0, 1, 2, 3, 4]), <a list of 5 Text xticklabel objects>)"
      ]
     },
     "execution_count": 74,
     "metadata": {},
     "output_type": "execute_result"
    },
    {
     "data": {
      "image/png": "[encoded data removed]",
      "text/plain": [
       "<Figure size 360x360 with 1 Axes>"
      ]
     },
     "metadata": {
      "needs_background": "light"
     },
     "output_type": "display_data"
    }
   ],
   "source": [
    "\n",
    "# Explore marital_status  distribution \n",
    "\n",
    "sns.catplot(x=\"marital_status\", kind=\"count\", data=train_df);\n",
    "\n",
    "plt.xticks(\n",
    "    rotation=45, \n",
    "    horizontalalignment='right',\n",
    "    fontweight='light',\n",
    "    fontsize='x-large'  \n",
    ")"
   ]
  },
  {
   "cell_type": "markdown",
   "metadata": {},
   "source": [
    "**Most of the participants are maried/living together**"
   ]
  },
  {
   "cell_type": "code",
   "execution_count": 75,
   "metadata": {},
   "outputs": [
    {
     "data": {
      "text/plain": [
       "(array([0, 1, 2, 3, 4]), <a list of 5 Text xticklabel objects>)"
      ]
     },
     "execution_count": 75,
     "metadata": {},
     "output_type": "execute_result"
    },
    {
     "data": {
      "image/png": "[encoded data removed]",
      "text/plain": [
       "<Figure size 432x288 with 1 Axes>"
      ]
     },
     "metadata": {
      "needs_background": "light"
     },
     "output_type": "display_data"
    }
   ],
   "source": [
    "# Lets check Distribution of target  & marital_status column\n",
    "\n",
    "sns.countplot('marital_status', hue= 'bank_account', data=train_df)\n",
    "\n",
    "plt.xticks(\n",
    "    rotation=45, \n",
    "    horizontalalignment='right',\n",
    "    fontweight='light',\n",
    "    fontsize='x-large'  \n",
    ")"
   ]
  },
  {
   "cell_type": "markdown",
   "metadata": {},
   "source": [
    "**Most of Married/Living together posses bank account compared to others**"
   ]
  },
  {
   "cell_type": "code",
   "execution_count": 76,
   "metadata": {},
   "outputs": [
    {
     "data": {
      "text/plain": [
       "(array([0, 1, 2, 3, 4, 5]), <a list of 6 Text xticklabel objects>)"
      ]
     },
     "execution_count": 76,
     "metadata": {},
     "output_type": "execute_result"
    },
    {
     "data": {
      "image/png": "[encoded data removed]",
      "text/plain": [
       "<Figure size 360x360 with 1 Axes>"
      ]
     },
     "metadata": {
      "needs_background": "light"
     },
     "output_type": "display_data"
    }
   ],
   "source": [
    "# Explore education_level  distribution \n",
    "\n",
    "sns.catplot(x=\"education_level\", kind=\"count\", data=train_df); \n",
    "\n",
    "plt.xticks(\n",
    "    rotation=45, \n",
    "    horizontalalignment='right',\n",
    "    fontweight='light',\n",
    "    fontsize='x-large'  \n",
    ")"
   ]
  },
  {
   "cell_type": "code",
   "execution_count": 77,
   "metadata": {},
   "outputs": [
    {
     "data": {
      "text/plain": [
       "(array([0, 1, 2, 3, 4, 5]), <a list of 6 Text xticklabel objects>)"
      ]
     },
     "execution_count": 77,
     "metadata": {},
     "output_type": "execute_result"
    },
    {
     "data": {
      "image/png": "[encoded data removed]",
      "text/plain": [
       "<Figure size 432x288 with 1 Axes>"
      ]
     },
     "metadata": {
      "needs_background": "light"
     },
     "output_type": "display_data"
    }
   ],
   "source": [
    "# Lets check Distribution of target  & education_level column\n",
    "\n",
    "sns.countplot('education_level', hue= 'bank_account', data=train_df)\n",
    "\n",
    "plt.xticks(\n",
    "    rotation=45, \n",
    "    horizontalalignment='right',\n",
    "    fontweight='light',\n",
    "    fontsize='x-large'  \n",
    ")"
   ]
  },
  {
   "cell_type": "markdown",
   "metadata": {},
   "source": [
    "**Most of Primary education respondents has no bank account**"
   ]
  },
  {
   "cell_type": "code",
   "execution_count": 78,
   "metadata": {},
   "outputs": [
    {
     "data": {
      "text/plain": [
       "(array([0, 1, 2, 3, 4, 5, 6, 7, 8, 9]), <a list of 10 Text xticklabel objects>)"
      ]
     },
     "execution_count": 78,
     "metadata": {},
     "output_type": "execute_result"
    },
    {
     "data": {
      "image/png": "[encoded data removed]",
      "text/plain": [
       "<Figure size 360x360 with 1 Axes>"
      ]
     },
     "metadata": {
      "needs_background": "light"
     },
     "output_type": "display_data"
    }
   ],
   "source": [
    "# Explore job_type distribution \n",
    "\n",
    "sns.catplot(x=\"job_type\", kind=\"count\", data=train_df); \n",
    "\n",
    "plt.xticks(\n",
    "    rotation=45, \n",
    "    horizontalalignment='right',\n",
    "    fontweight='light',\n",
    "    fontsize='x-large'  \n",
    ") "
   ]
  },
  {
   "cell_type": "markdown",
   "metadata": {},
   "source": [
    "**Most of Respondents were self employed**"
   ]
  },
  {
   "cell_type": "code",
   "execution_count": 79,
   "metadata": {},
   "outputs": [
    {
     "data": {
      "text/plain": [
       "(array([0, 1, 2, 3, 4, 5, 6, 7, 8, 9]), <a list of 10 Text xticklabel objects>)"
      ]
     },
     "execution_count": 79,
     "metadata": {},
     "output_type": "execute_result"
    },
    {
     "data": {
      "image/png": "[encoded data removed]",
      "text/plain": [
       "<Figure size 432x288 with 1 Axes>"
      ]
     },
     "metadata": {
      "needs_background": "light"
     },
     "output_type": "display_data"
    }
   ],
   "source": [
    "# Lets check Distribution of target  & job_type column\n",
    "\n",
    "sns.countplot('job_type', hue= 'bank_account', data=train_df)\n",
    "\n",
    "plt.xticks(\n",
    "    rotation=45, \n",
    "    horizontalalignment='right',\n",
    "    fontweight='light',\n",
    "    fontsize='x-large'  \n",
    ")"
   ]
  },
  {
   "cell_type": "markdown",
   "metadata": {},
   "source": [
    "**Most of Formally employed private has bank account**\n",
    "\n",
    "**Most of self employed  has  no bank account**"
   ]
  },
  {
   "cell_type": "code",
   "execution_count": 80,
   "metadata": {},
   "outputs": [
    {
     "data": {
      "text/plain": [
       "Text(0.5, 0, 'Household  size')"
      ]
     },
     "execution_count": 80,
     "metadata": {},
     "output_type": "execute_result"
    },
    {
     "data": {
      "image/png": "[encoded data removed]",
      "text/plain": [
       "<Figure size 432x288 with 1 Axes>"
      ]
     },
     "metadata": {
      "needs_background": "light"
     },
     "output_type": "display_data"
    }
   ],
   "source": [
    "# Explore household_size distribution\n",
    "\n",
    "train_df.household_size.hist() \n",
    "plt.xlabel('Household  size')"
   ]
  },
  {
   "cell_type": "markdown",
   "metadata": {},
   "source": [
    "**Household_size is not normally distributed and the most common number of people living in the house is 2**"
   ]
  },
  {
   "cell_type": "code",
   "execution_count": 81,
   "metadata": {},
   "outputs": [
    {
     "data": {
      "text/plain": [
       "Text(0.5, 0, 'Age of Respondent')"
      ]
     },
     "execution_count": 81,
     "metadata": {},
     "output_type": "execute_result"
    },
    {
     "data": {
      "image/png": "[encoded data removed]",
      "text/plain": [
       "<Figure size 432x288 with 1 Axes>"
      ]
     },
     "metadata": {
      "needs_background": "light"
     },
     "output_type": "display_data"
    }
   ],
   "source": [
    "# Explore age_of_respondent distribution\n",
    "\n",
    "train_df.age_of_respondent.hist() \n",
    "plt.xlabel('Age of Respondent')"
   ]
  },
  {
   "cell_type": "markdown",
   "metadata": {},
   "source": [
    "**Most of the Respondent's age is between 20 and 35**"
   ]
  },
  {
   "cell_type": "markdown",
   "metadata": {},
   "source": [
    "###### Data Processing"
   ]
  },
  {
   "cell_type": "code",
   "execution_count": 82,
   "metadata": {},
   "outputs": [],
   "source": [
    "# Lets concate train_df and test_df to have few steps on processing our data\n",
    "\n",
    "data = pd.concat([train_df,test_df],sort = False).reset_index(drop=True)"
   ]
  },
  {
   "cell_type": "code",
   "execution_count": 83,
   "metadata": {},
   "outputs": [
    {
     "data": {
      "text/html": [
       "<div>\n",
       "<style scoped>\n",
       "    .dataframe tbody tr th:only-of-type {\n",
       "        vertical-align: middle;\n",
       "    }\n",
       "\n",
       "    .dataframe tbody tr th {\n",
       "        vertical-align: top;\n",
       "    }\n",
       "\n",
       "    .dataframe thead th {\n",
       "        text-align: right;\n",
       "    }\n",
       "</style>\n",
       "<table border=\"1\" class=\"dataframe\">\n",
       "  <thead>\n",
       "    <tr style=\"text-align: right;\">\n",
       "      <th></th>\n",
       "      <th>country</th>\n",
       "      <th>year</th>\n",
       "      <th>uniqueid</th>\n",
       "      <th>bank_account</th>\n",
       "      <th>location_type</th>\n",
       "      <th>cellphone_access</th>\n",
       "      <th>household_size</th>\n",
       "      <th>age_of_respondent</th>\n",
       "      <th>gender_of_respondent</th>\n",
       "      <th>relationship_with_head</th>\n",
       "      <th>marital_status</th>\n",
       "      <th>education_level</th>\n",
       "      <th>job_type</th>\n",
       "    </tr>\n",
       "  </thead>\n",
       "  <tbody>\n",
       "    <tr>\n",
       "      <th>9822</th>\n",
       "      <td>Rwanda</td>\n",
       "      <td>2016</td>\n",
       "      <td>uniqueid_3755</td>\n",
       "      <td>Yes</td>\n",
       "      <td>Rural</td>\n",
       "      <td>Yes</td>\n",
       "      <td>7</td>\n",
       "      <td>35</td>\n",
       "      <td>Male</td>\n",
       "      <td>Head of Household</td>\n",
       "      <td>Married/Living together</td>\n",
       "      <td>Primary education</td>\n",
       "      <td>Farming and Fishing</td>\n",
       "    </tr>\n",
       "    <tr>\n",
       "      <th>18307</th>\n",
       "      <td>Tanzania</td>\n",
       "      <td>2017</td>\n",
       "      <td>uniqueid_3505</td>\n",
       "      <td>No</td>\n",
       "      <td>Urban</td>\n",
       "      <td>Yes</td>\n",
       "      <td>8</td>\n",
       "      <td>37</td>\n",
       "      <td>Female</td>\n",
       "      <td>Parent</td>\n",
       "      <td>Widowed</td>\n",
       "      <td>Primary education</td>\n",
       "      <td>Self employed</td>\n",
       "    </tr>\n",
       "    <tr>\n",
       "      <th>30981</th>\n",
       "      <td>Tanzania</td>\n",
       "      <td>2017</td>\n",
       "      <td>uniqueid_7732</td>\n",
       "      <td>NaN</td>\n",
       "      <td>Rural</td>\n",
       "      <td>Yes</td>\n",
       "      <td>3</td>\n",
       "      <td>50</td>\n",
       "      <td>Female</td>\n",
       "      <td>Spouse</td>\n",
       "      <td>Single/Never Married</td>\n",
       "      <td>Primary education</td>\n",
       "      <td>Informally employed</td>\n",
       "    </tr>\n",
       "    <tr>\n",
       "      <th>29256</th>\n",
       "      <td>Rwanda</td>\n",
       "      <td>2016</td>\n",
       "      <td>uniqueid_11867</td>\n",
       "      <td>NaN</td>\n",
       "      <td>Rural</td>\n",
       "      <td>Yes</td>\n",
       "      <td>7</td>\n",
       "      <td>44</td>\n",
       "      <td>Male</td>\n",
       "      <td>Head of Household</td>\n",
       "      <td>Married/Living together</td>\n",
       "      <td>No formal education</td>\n",
       "      <td>Farming and Fishing</td>\n",
       "    </tr>\n",
       "    <tr>\n",
       "      <th>1031</th>\n",
       "      <td>Kenya</td>\n",
       "      <td>2018</td>\n",
       "      <td>uniqueid_1032</td>\n",
       "      <td>No</td>\n",
       "      <td>Urban</td>\n",
       "      <td>Yes</td>\n",
       "      <td>4</td>\n",
       "      <td>20</td>\n",
       "      <td>Male</td>\n",
       "      <td>Child</td>\n",
       "      <td>Single/Never Married</td>\n",
       "      <td>Secondary education</td>\n",
       "      <td>Informally employed</td>\n",
       "    </tr>\n",
       "  </tbody>\n",
       "</table>\n",
       "</div>"
      ],
      "text/plain": [
       "        country  year        uniqueid bank_account location_type  \\\n",
       "9822     Rwanda  2016   uniqueid_3755          Yes         Rural   \n",
       "18307  Tanzania  2017   uniqueid_3505           No         Urban   \n",
       "30981  Tanzania  2017   uniqueid_7732          NaN         Rural   \n",
       "29256    Rwanda  2016  uniqueid_11867          NaN         Rural   \n",
       "1031      Kenya  2018   uniqueid_1032           No         Urban   \n",
       "\n",
       "      cellphone_access  household_size  age_of_respondent  \\\n",
       "9822               Yes               7                 35   \n",
       "18307              Yes               8                 37   \n",
       "30981              Yes               3                 50   \n",
       "29256              Yes               7                 44   \n",
       "1031               Yes               4                 20   \n",
       "\n",
       "      gender_of_respondent relationship_with_head           marital_status  \\\n",
       "9822                  Male      Head of Household  Married/Living together   \n",
       "18307               Female                 Parent                  Widowed   \n",
       "30981               Female                 Spouse     Single/Never Married   \n",
       "29256                 Male      Head of Household  Married/Living together   \n",
       "1031                  Male                  Child     Single/Never Married   \n",
       "\n",
       "           education_level             job_type  \n",
       "9822     Primary education  Farming and Fishing  \n",
       "18307    Primary education        Self employed  \n",
       "30981    Primary education  Informally employed  \n",
       "29256  No formal education  Farming and Fishing  \n",
       "1031   Secondary education  Informally employed  "
      ]
     },
     "execution_count": 83,
     "metadata": {},
     "output_type": "execute_result"
    }
   ],
   "source": [
    "# preview data\n",
    "\n",
    "data.sample(5)"
   ]
  },
  {
   "cell_type": "code",
   "execution_count": 84,
   "metadata": {},
   "outputs": [
    {
     "data": {
      "text/plain": [
       "country                   object\n",
       "year                       int64\n",
       "uniqueid                  object\n",
       "bank_account              object\n",
       "location_type             object\n",
       "cellphone_access          object\n",
       "household_size             int64\n",
       "age_of_respondent          int64\n",
       "gender_of_respondent      object\n",
       "relationship_with_head    object\n",
       "marital_status            object\n",
       "education_level           object\n",
       "job_type                  object\n",
       "dtype: object"
      ]
     },
     "execution_count": 84,
     "metadata": {},
     "output_type": "execute_result"
    }
   ],
   "source": [
    "# Lets check data types of columns\n",
    "\n",
    "data.dtypes"
   ]
  },
  {
   "cell_type": "markdown",
   "metadata": {},
   "source": [
    "**Most of columns are categorical**"
   ]
  },
  {
   "cell_type": "code",
   "execution_count": 85,
   "metadata": {},
   "outputs": [],
   "source": [
    "# convert categorical features to numerical features\n",
    "\n",
    "data['country_'] = data['country']\n",
    "\n",
    "categ = ['relationship_with_head', 'marital_status', 'education_level', 'job_type', 'country_']\n",
    "\n",
    "# One Hot Encoding conversion\n",
    "\n",
    "data = pd.get_dummies(data, prefix_sep='_', columns = categ)\n",
    "\n",
    "\n",
    "# Labelncoder conversion\n",
    "\n",
    "data['location_type'] = le.fit_transform(data['location_type'])\n",
    "data['cellphone_access'] = le.fit_transform(data['cellphone_access'])\n",
    "data['gender_of_respondent'] = le.fit_transform(data['gender_of_respondent'])\n",
    "# data['bank_account'] = le.fit_transform(data['bank_account']) #due to some null values on test set so will covert after splitting our data\n"
   ]
  },
  {
   "cell_type": "code",
   "execution_count": 86,
   "metadata": {},
   "outputs": [
    {
     "data": {
      "text/html": [
       "<div>\n",
       "<style scoped>\n",
       "    .dataframe tbody tr th:only-of-type {\n",
       "        vertical-align: middle;\n",
       "    }\n",
       "\n",
       "    .dataframe tbody tr th {\n",
       "        vertical-align: top;\n",
       "    }\n",
       "\n",
       "    .dataframe thead th {\n",
       "        text-align: right;\n",
       "    }\n",
       "</style>\n",
       "<table border=\"1\" class=\"dataframe\">\n",
       "  <thead>\n",
       "    <tr style=\"text-align: right;\">\n",
       "      <th></th>\n",
       "      <th>country</th>\n",
       "      <th>year</th>\n",
       "      <th>uniqueid</th>\n",
       "      <th>bank_account</th>\n",
       "      <th>location_type</th>\n",
       "      <th>cellphone_access</th>\n",
       "      <th>household_size</th>\n",
       "      <th>age_of_respondent</th>\n",
       "      <th>gender_of_respondent</th>\n",
       "      <th>relationship_with_head_Child</th>\n",
       "      <th>...</th>\n",
       "      <th>job_type_Government Dependent</th>\n",
       "      <th>job_type_Informally employed</th>\n",
       "      <th>job_type_No Income</th>\n",
       "      <th>job_type_Other Income</th>\n",
       "      <th>job_type_Remittance Dependent</th>\n",
       "      <th>job_type_Self employed</th>\n",
       "      <th>country__Kenya</th>\n",
       "      <th>country__Rwanda</th>\n",
       "      <th>country__Tanzania</th>\n",
       "      <th>country__Uganda</th>\n",
       "    </tr>\n",
       "  </thead>\n",
       "  <tbody>\n",
       "    <tr>\n",
       "      <th>0</th>\n",
       "      <td>Kenya</td>\n",
       "      <td>2018</td>\n",
       "      <td>uniqueid_1</td>\n",
       "      <td>Yes</td>\n",
       "      <td>0</td>\n",
       "      <td>1</td>\n",
       "      <td>3</td>\n",
       "      <td>24</td>\n",
       "      <td>0</td>\n",
       "      <td>0</td>\n",
       "      <td>...</td>\n",
       "      <td>0</td>\n",
       "      <td>0</td>\n",
       "      <td>0</td>\n",
       "      <td>0</td>\n",
       "      <td>0</td>\n",
       "      <td>1</td>\n",
       "      <td>1</td>\n",
       "      <td>0</td>\n",
       "      <td>0</td>\n",
       "      <td>0</td>\n",
       "    </tr>\n",
       "    <tr>\n",
       "      <th>1</th>\n",
       "      <td>Kenya</td>\n",
       "      <td>2018</td>\n",
       "      <td>uniqueid_2</td>\n",
       "      <td>No</td>\n",
       "      <td>0</td>\n",
       "      <td>0</td>\n",
       "      <td>5</td>\n",
       "      <td>70</td>\n",
       "      <td>0</td>\n",
       "      <td>0</td>\n",
       "      <td>...</td>\n",
       "      <td>1</td>\n",
       "      <td>0</td>\n",
       "      <td>0</td>\n",
       "      <td>0</td>\n",
       "      <td>0</td>\n",
       "      <td>0</td>\n",
       "      <td>1</td>\n",
       "      <td>0</td>\n",
       "      <td>0</td>\n",
       "      <td>0</td>\n",
       "    </tr>\n",
       "    <tr>\n",
       "      <th>2</th>\n",
       "      <td>Kenya</td>\n",
       "      <td>2018</td>\n",
       "      <td>uniqueid_3</td>\n",
       "      <td>Yes</td>\n",
       "      <td>1</td>\n",
       "      <td>1</td>\n",
       "      <td>5</td>\n",
       "      <td>26</td>\n",
       "      <td>1</td>\n",
       "      <td>0</td>\n",
       "      <td>...</td>\n",
       "      <td>0</td>\n",
       "      <td>0</td>\n",
       "      <td>0</td>\n",
       "      <td>0</td>\n",
       "      <td>0</td>\n",
       "      <td>1</td>\n",
       "      <td>1</td>\n",
       "      <td>0</td>\n",
       "      <td>0</td>\n",
       "      <td>0</td>\n",
       "    </tr>\n",
       "    <tr>\n",
       "      <th>3</th>\n",
       "      <td>Kenya</td>\n",
       "      <td>2018</td>\n",
       "      <td>uniqueid_4</td>\n",
       "      <td>No</td>\n",
       "      <td>0</td>\n",
       "      <td>1</td>\n",
       "      <td>5</td>\n",
       "      <td>34</td>\n",
       "      <td>0</td>\n",
       "      <td>0</td>\n",
       "      <td>...</td>\n",
       "      <td>0</td>\n",
       "      <td>0</td>\n",
       "      <td>0</td>\n",
       "      <td>0</td>\n",
       "      <td>0</td>\n",
       "      <td>0</td>\n",
       "      <td>1</td>\n",
       "      <td>0</td>\n",
       "      <td>0</td>\n",
       "      <td>0</td>\n",
       "    </tr>\n",
       "    <tr>\n",
       "      <th>4</th>\n",
       "      <td>Kenya</td>\n",
       "      <td>2018</td>\n",
       "      <td>uniqueid_5</td>\n",
       "      <td>No</td>\n",
       "      <td>1</td>\n",
       "      <td>0</td>\n",
       "      <td>8</td>\n",
       "      <td>26</td>\n",
       "      <td>1</td>\n",
       "      <td>1</td>\n",
       "      <td>...</td>\n",
       "      <td>0</td>\n",
       "      <td>1</td>\n",
       "      <td>0</td>\n",
       "      <td>0</td>\n",
       "      <td>0</td>\n",
       "      <td>0</td>\n",
       "      <td>1</td>\n",
       "      <td>0</td>\n",
       "      <td>0</td>\n",
       "      <td>0</td>\n",
       "    </tr>\n",
       "  </tbody>\n",
       "</table>\n",
       "<p>5 rows × 40 columns</p>\n",
       "</div>"
      ],
      "text/plain": [
       "  country  year    uniqueid bank_account  location_type  cellphone_access  \\\n",
       "0   Kenya  2018  uniqueid_1          Yes              0                 1   \n",
       "1   Kenya  2018  uniqueid_2           No              0                 0   \n",
       "2   Kenya  2018  uniqueid_3          Yes              1                 1   \n",
       "3   Kenya  2018  uniqueid_4           No              0                 1   \n",
       "4   Kenya  2018  uniqueid_5           No              1                 0   \n",
       "\n",
       "   household_size  age_of_respondent  gender_of_respondent  \\\n",
       "0               3                 24                     0   \n",
       "1               5                 70                     0   \n",
       "2               5                 26                     1   \n",
       "3               5                 34                     0   \n",
       "4               8                 26                     1   \n",
       "\n",
       "   relationship_with_head_Child  ...  job_type_Government Dependent  \\\n",
       "0                             0  ...                              0   \n",
       "1                             0  ...                              1   \n",
       "2                             0  ...                              0   \n",
       "3                             0  ...                              0   \n",
       "4                             1  ...                              0   \n",
       "\n",
       "   job_type_Informally employed  job_type_No Income  job_type_Other Income  \\\n",
       "0                             0                   0                      0   \n",
       "1                             0                   0                      0   \n",
       "2                             0                   0                      0   \n",
       "3                             0                   0                      0   \n",
       "4                             1                   0                      0   \n",
       "\n",
       "   job_type_Remittance Dependent  job_type_Self employed  country__Kenya  \\\n",
       "0                              0                       1               1   \n",
       "1                              0                       0               1   \n",
       "2                              0                       1               1   \n",
       "3                              0                       0               1   \n",
       "4                              0                       0               1   \n",
       "\n",
       "   country__Rwanda  country__Tanzania  country__Uganda  \n",
       "0                0                  0                0  \n",
       "1                0                  0                0  \n",
       "2                0                  0                0  \n",
       "3                0                  0                0  \n",
       "4                0                  0                0  \n",
       "\n",
       "[5 rows x 40 columns]"
      ]
     },
     "execution_count": 86,
     "metadata": {},
     "output_type": "execute_result"
    }
   ],
   "source": [
    "data.head()"
   ]
  },
  {
   "cell_type": "code",
   "execution_count": 87,
   "metadata": {},
   "outputs": [],
   "source": [
    "# generate new columns\n",
    "\n",
    "feat = [\"household_size\",\"age_of_respondent\"]"
   ]
  },
  {
   "cell_type": "code",
   "execution_count": 88,
   "metadata": {},
   "outputs": [],
   "source": [
    "#function to generate aggregation of  feat columns\n",
    "\n",
    "def aggregate_feat(y,col_name):\n",
    "    y[\"max_\"+col_name]=y[col_name].apply(np.max)\n",
    "    y[\"min_\"+col_name]=y[col_name].apply(np.min)\n",
    "    y[\"mean_\"+col_name]=y[col_name].apply(np.mean)\n",
    "    y[\"std_\"+col_name]=y[col_name].apply(np.std)\n",
    "    y[\"var_\"+col_name]=y[col_name].apply(np.var)\n",
    "    y[\"median_\"+col_name]=y[col_name].apply(np.median)\n",
    "    return y"
   ]
  },
  {
   "cell_type": "code",
   "execution_count": 89,
   "metadata": {},
   "outputs": [
    {
     "name": "stderr",
     "output_type": "stream",
     "text": [
      "100%|██████████| 2/2 [00:13<00:00,  6.94s/it]\n"
     ]
    }
   ],
   "source": [
    "for col_name in tqdm(feat):\n",
    "    data=aggregate_feat(data,col_name)"
   ]
  },
  {
   "cell_type": "code",
   "execution_count": 91,
   "metadata": {},
   "outputs": [
    {
     "data": {
      "text/plain": [
       "(33610, 52)"
      ]
     },
     "execution_count": 91,
     "metadata": {},
     "output_type": "execute_result"
    }
   ],
   "source": [
    "# Lets check the shape of our data\n",
    "\n",
    "data.shape"
   ]
  },
  {
   "cell_type": "code",
   "execution_count": 92,
   "metadata": {},
   "outputs": [],
   "source": [
    "# splliting data into train and test sets\n",
    "\n",
    "train = data[data.bank_account.notnull()].reset_index(drop=True)\n",
    "test = data[data.bank_account.isna()].reset_index(drop=True)"
   ]
  },
  {
   "cell_type": "code",
   "execution_count": 93,
   "metadata": {},
   "outputs": [
    {
     "data": {
      "text/plain": [
       "((23524, 52), (10086, 52))"
      ]
     },
     "execution_count": 93,
     "metadata": {},
     "output_type": "execute_result"
    }
   ],
   "source": [
    "train.shape , test.shape"
   ]
  },
  {
   "cell_type": "code",
   "execution_count": 94,
   "metadata": {},
   "outputs": [],
   "source": [
    "# Lets convert our target into Numerical values\n",
    "\n",
    "train['bank_account'] = le.fit_transform(train['bank_account'])"
   ]
  },
  {
   "cell_type": "code",
   "execution_count": null,
   "metadata": {},
   "outputs": [],
   "source": []
  },
  {
   "cell_type": "markdown",
   "metadata": {},
   "source": [
    "###### Feature Selection"
   ]
  },
  {
   "cell_type": "code",
   "execution_count": 95,
   "metadata": {},
   "outputs": [],
   "source": [
    "# Separate training features from target\n",
    "\n",
    "feat_cols = train.drop(['year', 'uniqueid', 'bank_account', 'country',\"household_size\",\"age_of_respondent\"], axis=1)\n",
    "\n",
    "target = train['bank_account']\n",
    "\n",
    "cols = feat_cols.columns"
   ]
  },
  {
   "cell_type": "code",
   "execution_count": 96,
   "metadata": {},
   "outputs": [
    {
     "data": {
      "text/plain": [
       "((23524, 46), (23524,))"
      ]
     },
     "execution_count": 96,
     "metadata": {},
     "output_type": "execute_result"
    }
   ],
   "source": [
    "train[cols].shape , target.shape"
   ]
  },
  {
   "cell_type": "code",
   "execution_count": 97,
   "metadata": {},
   "outputs": [],
   "source": [
    "# rescale train features and test features\n",
    "\n",
    "scaler = MinMaxScaler(feature_range=(0, 1))\n",
    "X_train_rescaled = scaler.fit_transform(train[cols])\n",
    "X_test_rescaled = scaler.fit_transform(test[cols])"
   ]
  },
  {
   "cell_type": "code",
   "execution_count": 108,
   "metadata": {},
   "outputs": [],
   "source": [
    "# setting no. of seed for reproduciability\n",
    "\n",
    "SEED = 42"
   ]
  },
  {
   "cell_type": "code",
   "execution_count": 131,
   "metadata": {},
   "outputs": [
    {
     "name": "stdout",
     "output_type": "stream",
     "text": [
      "(18819, 46) (18819,)\n",
      "(4705, 46) (4705,)\n"
     ]
    }
   ],
   "source": [
    "# splitting data for training Models and evaluation\n",
    "\n",
    "X_train, X_test, y_train, y_test = train_test_split(X_train_rescaled, target, stratify = target, test_size = 0.2, random_state = SEED)\n",
    "print (X_train.shape, y_train.shape)\n",
    "print (X_test.shape, y_test.shape)"
   ]
  },
  {
   "cell_type": "markdown",
   "metadata": {},
   "source": [
    "#####  Extreme Gradient Booost"
   ]
  },
  {
   "cell_type": "code",
   "execution_count": 156,
   "metadata": {},
   "outputs": [
    {
     "name": "stdout",
     "output_type": "stream",
     "text": [
      "Error rate of Extreme Gradient Boost classifier:  0.10903294367693939\n"
     ]
    }
   ],
   "source": [
    "# fit and Evaluate model\n",
    "\n",
    "model0 = XGBClassifier(learning_rate = 0.1, min_child_weight = 5, gamma = 0.5, subsample = 0.6, colsample_bytree = 0.6, max_depth = 5)\n",
    "\n",
    "model0.fit(X_train, y_train)\n",
    "\n",
    "y_pred = model0.predict(X_test)\n",
    "\n",
    "# Get error rate\n",
    "\n",
    "print(\"Error rate of Extreme Gradient Boost classifier: \", 1 - accuracy_score(y_test, y_pred))\n",
    "\n",
    "# Get the predicted result for the test data\n",
    "\n",
    "pred0 = model0.predict(X_test_rescaled)"
   ]
  },
  {
   "cell_type": "code",
   "execution_count": null,
   "metadata": {},
   "outputs": [],
   "source": []
  },
  {
   "cell_type": "markdown",
   "metadata": {},
   "source": [
    "##### CatBoost "
   ]
  },
  {
   "cell_type": "code",
   "execution_count": 157,
   "metadata": {
    "scrolled": false
   },
   "outputs": [
    {
     "name": "stdout",
     "output_type": "stream",
     "text": [
      "0:\tlearn: 0.6824676\ttotal: 35ms\tremaining: 34.9s\n",
      "1:\tlearn: 0.6721232\ttotal: 68.5ms\tremaining: 34.2s\n",
      "2:\tlearn: 0.6611420\ttotal: 104ms\tremaining: 34.6s\n",
      "3:\tlearn: 0.6505252\ttotal: 138ms\tremaining: 34.4s\n",
      "4:\tlearn: 0.6409706\ttotal: 171ms\tremaining: 34s\n",
      "5:\tlearn: 0.6305622\ttotal: 205ms\tremaining: 34s\n",
      "6:\tlearn: 0.6217328\ttotal: 243ms\tremaining: 34.4s\n",
      "7:\tlearn: 0.6152653\ttotal: 261ms\tremaining: 32.3s\n",
      "8:\tlearn: 0.6079198\ttotal: 304ms\tremaining: 33.5s\n",
      "9:\tlearn: 0.6017828\ttotal: 317ms\tremaining: 31.4s\n",
      "10:\tlearn: 0.5936771\ttotal: 351ms\tremaining: 31.5s\n",
      "11:\tlearn: 0.5863614\ttotal: 386ms\tremaining: 31.8s\n",
      "12:\tlearn: 0.5783585\ttotal: 419ms\tremaining: 31.8s\n",
      "13:\tlearn: 0.5712034\ttotal: 476ms\tremaining: 33.5s\n",
      "14:\tlearn: 0.5637953\ttotal: 522ms\tremaining: 34.2s\n",
      "15:\tlearn: 0.5565750\ttotal: 557ms\tremaining: 34.3s\n",
      "16:\tlearn: 0.5504976\ttotal: 590ms\tremaining: 34.1s\n",
      "17:\tlearn: 0.5440348\ttotal: 625ms\tremaining: 34.1s\n",
      "18:\tlearn: 0.5378413\ttotal: 658ms\tremaining: 34s\n",
      "19:\tlearn: 0.5311011\ttotal: 696ms\tremaining: 34.1s\n",
      "20:\tlearn: 0.5245082\ttotal: 757ms\tremaining: 35.3s\n",
      "21:\tlearn: 0.5191824\ttotal: 791ms\tremaining: 35.2s\n",
      "22:\tlearn: 0.5142822\ttotal: 835ms\tremaining: 35.5s\n",
      "23:\tlearn: 0.5098991\ttotal: 872ms\tremaining: 35.4s\n",
      "24:\tlearn: 0.5045588\ttotal: 909ms\tremaining: 35.4s\n",
      "25:\tlearn: 0.4995795\ttotal: 960ms\tremaining: 36s\n",
      "26:\tlearn: 0.4945312\ttotal: 998ms\tremaining: 36s\n",
      "27:\tlearn: 0.4901043\ttotal: 1.03s\tremaining: 35.8s\n",
      "28:\tlearn: 0.4857897\ttotal: 1.07s\tremaining: 35.7s\n",
      "29:\tlearn: 0.4811224\ttotal: 1.1s\tremaining: 35.6s\n",
      "30:\tlearn: 0.4769303\ttotal: 1.16s\tremaining: 36.2s\n",
      "31:\tlearn: 0.4728860\ttotal: 1.2s\tremaining: 36.3s\n",
      "32:\tlearn: 0.4691094\ttotal: 1.23s\tremaining: 36.1s\n",
      "33:\tlearn: 0.4645650\ttotal: 1.26s\tremaining: 36s\n",
      "34:\tlearn: 0.4607726\ttotal: 1.29s\tremaining: 35.5s\n",
      "35:\tlearn: 0.4567331\ttotal: 1.32s\tremaining: 35.3s\n",
      "36:\tlearn: 0.4528349\ttotal: 1.35s\tremaining: 35.2s\n",
      "37:\tlearn: 0.4491375\ttotal: 1.41s\tremaining: 35.8s\n",
      "38:\tlearn: 0.4459951\ttotal: 1.45s\tremaining: 35.8s\n",
      "39:\tlearn: 0.4428913\ttotal: 1.48s\tremaining: 35.6s\n",
      "40:\tlearn: 0.4387234\ttotal: 1.52s\tremaining: 35.5s\n",
      "41:\tlearn: 0.4356471\ttotal: 1.55s\tremaining: 35.3s\n",
      "42:\tlearn: 0.4320228\ttotal: 1.58s\tremaining: 35.2s\n",
      "43:\tlearn: 0.4296087\ttotal: 1.59s\tremaining: 34.7s\n",
      "44:\tlearn: 0.4265156\ttotal: 1.65s\tremaining: 35s\n",
      "45:\tlearn: 0.4231356\ttotal: 1.7s\tremaining: 35.2s\n",
      "46:\tlearn: 0.4197463\ttotal: 1.73s\tremaining: 35.1s\n",
      "47:\tlearn: 0.4170053\ttotal: 1.76s\tremaining: 35s\n",
      "48:\tlearn: 0.4142028\ttotal: 1.79s\tremaining: 34.8s\n",
      "49:\tlearn: 0.4110228\ttotal: 1.83s\tremaining: 34.8s\n",
      "50:\tlearn: 0.4080379\ttotal: 1.89s\tremaining: 35.1s\n",
      "51:\tlearn: 0.4051655\ttotal: 1.93s\tremaining: 35.3s\n",
      "52:\tlearn: 0.4022557\ttotal: 1.97s\tremaining: 35.1s\n",
      "53:\tlearn: 0.3996586\ttotal: 2s\tremaining: 35s\n",
      "54:\tlearn: 0.3970874\ttotal: 2.03s\tremaining: 34.9s\n",
      "55:\tlearn: 0.3952373\ttotal: 2.06s\tremaining: 34.8s\n",
      "56:\tlearn: 0.3933437\ttotal: 2.12s\tremaining: 35s\n",
      "57:\tlearn: 0.3906421\ttotal: 2.17s\tremaining: 35.2s\n",
      "58:\tlearn: 0.3881846\ttotal: 2.2s\tremaining: 35.1s\n",
      "59:\tlearn: 0.3858019\ttotal: 2.23s\tremaining: 35s\n",
      "60:\tlearn: 0.3835990\ttotal: 2.27s\tremaining: 34.9s\n",
      "61:\tlearn: 0.3817219\ttotal: 2.31s\tremaining: 34.9s\n",
      "62:\tlearn: 0.3800542\ttotal: 2.35s\tremaining: 34.9s\n",
      "63:\tlearn: 0.3780783\ttotal: 2.39s\tremaining: 35s\n",
      "64:\tlearn: 0.3758127\ttotal: 2.43s\tremaining: 35s\n",
      "65:\tlearn: 0.3739665\ttotal: 2.47s\tremaining: 34.9s\n",
      "66:\tlearn: 0.3720715\ttotal: 2.5s\tremaining: 34.8s\n",
      "67:\tlearn: 0.3701456\ttotal: 2.54s\tremaining: 34.7s\n",
      "68:\tlearn: 0.3682988\ttotal: 2.6s\tremaining: 35s\n",
      "69:\tlearn: 0.3668251\ttotal: 2.63s\tremaining: 35s\n",
      "70:\tlearn: 0.3648304\ttotal: 2.67s\tremaining: 35s\n",
      "71:\tlearn: 0.3633438\ttotal: 2.71s\tremaining: 34.9s\n",
      "72:\tlearn: 0.3617118\ttotal: 2.74s\tremaining: 34.8s\n",
      "73:\tlearn: 0.3602516\ttotal: 2.78s\tremaining: 34.7s\n",
      "74:\tlearn: 0.3586410\ttotal: 2.81s\tremaining: 34.7s\n",
      "75:\tlearn: 0.3571198\ttotal: 2.88s\tremaining: 35s\n",
      "76:\tlearn: 0.3559570\ttotal: 2.91s\tremaining: 34.9s\n",
      "77:\tlearn: 0.3541748\ttotal: 2.95s\tremaining: 34.9s\n",
      "78:\tlearn: 0.3528270\ttotal: 2.99s\tremaining: 34.8s\n",
      "79:\tlearn: 0.3514652\ttotal: 3.02s\tremaining: 34.8s\n",
      "80:\tlearn: 0.3506544\ttotal: 3.05s\tremaining: 34.6s\n",
      "81:\tlearn: 0.3488572\ttotal: 3.1s\tremaining: 34.7s\n",
      "82:\tlearn: 0.3475210\ttotal: 3.14s\tremaining: 34.7s\n",
      "83:\tlearn: 0.3462328\ttotal: 3.18s\tremaining: 34.7s\n",
      "84:\tlearn: 0.3448044\ttotal: 3.22s\tremaining: 34.6s\n",
      "85:\tlearn: 0.3435654\ttotal: 3.27s\tremaining: 34.8s\n",
      "86:\tlearn: 0.3419795\ttotal: 3.33s\tremaining: 34.9s\n",
      "87:\tlearn: 0.3407897\ttotal: 3.37s\tremaining: 34.9s\n",
      "88:\tlearn: 0.3397699\ttotal: 3.41s\tremaining: 34.9s\n",
      "89:\tlearn: 0.3385558\ttotal: 3.45s\tremaining: 34.9s\n",
      "90:\tlearn: 0.3372387\ttotal: 3.49s\tremaining: 34.8s\n",
      "91:\tlearn: 0.3359521\ttotal: 3.55s\tremaining: 35.1s\n",
      "92:\tlearn: 0.3348920\ttotal: 3.6s\tremaining: 35.1s\n",
      "93:\tlearn: 0.3340894\ttotal: 3.63s\tremaining: 35s\n",
      "94:\tlearn: 0.3328164\ttotal: 3.67s\tremaining: 35s\n",
      "95:\tlearn: 0.3318328\ttotal: 3.72s\tremaining: 35s\n",
      "96:\tlearn: 0.3306787\ttotal: 3.78s\tremaining: 35.2s\n",
      "97:\tlearn: 0.3295037\ttotal: 3.81s\tremaining: 35.1s\n",
      "98:\tlearn: 0.3283702\ttotal: 3.86s\tremaining: 35.1s\n",
      "99:\tlearn: 0.3274753\ttotal: 3.9s\tremaining: 35.1s\n",
      "100:\tlearn: 0.3263075\ttotal: 3.96s\tremaining: 35.2s\n",
      "101:\tlearn: 0.3255256\ttotal: 4.01s\tremaining: 35.3s\n",
      "102:\tlearn: 0.3245857\ttotal: 4.05s\tremaining: 35.3s\n",
      "103:\tlearn: 0.3238737\ttotal: 4.08s\tremaining: 35.2s\n",
      "104:\tlearn: 0.3231653\ttotal: 4.12s\tremaining: 35.1s\n",
      "105:\tlearn: 0.3224299\ttotal: 4.15s\tremaining: 35s\n",
      "106:\tlearn: 0.3215128\ttotal: 4.2s\tremaining: 35.1s\n",
      "107:\tlearn: 0.3208595\ttotal: 4.25s\tremaining: 35.1s\n",
      "108:\tlearn: 0.3199387\ttotal: 4.28s\tremaining: 35s\n",
      "109:\tlearn: 0.3191031\ttotal: 4.32s\tremaining: 34.9s\n",
      "110:\tlearn: 0.3184784\ttotal: 4.35s\tremaining: 34.8s\n",
      "111:\tlearn: 0.3177056\ttotal: 4.38s\tremaining: 34.8s\n",
      "112:\tlearn: 0.3169539\ttotal: 4.43s\tremaining: 34.8s\n",
      "113:\tlearn: 0.3164554\ttotal: 4.49s\tremaining: 34.9s\n",
      "114:\tlearn: 0.3156421\ttotal: 4.54s\tremaining: 34.9s\n",
      "115:\tlearn: 0.3151388\ttotal: 4.58s\tremaining: 34.9s\n",
      "116:\tlearn: 0.3143096\ttotal: 4.62s\tremaining: 34.8s\n",
      "117:\tlearn: 0.3135767\ttotal: 4.67s\tremaining: 34.9s\n",
      "118:\tlearn: 0.3129781\ttotal: 4.73s\tremaining: 35s\n",
      "119:\tlearn: 0.3123225\ttotal: 4.77s\tremaining: 35s\n",
      "120:\tlearn: 0.3117278\ttotal: 4.81s\tremaining: 34.9s\n",
      "121:\tlearn: 0.3112052\ttotal: 4.85s\tremaining: 34.9s\n",
      "122:\tlearn: 0.3106906\ttotal: 4.89s\tremaining: 34.8s\n",
      "123:\tlearn: 0.3101172\ttotal: 4.95s\tremaining: 35s\n",
      "124:\tlearn: 0.3095992\ttotal: 4.99s\tremaining: 34.9s\n",
      "125:\tlearn: 0.3089788\ttotal: 5.02s\tremaining: 34.8s\n",
      "126:\tlearn: 0.3084323\ttotal: 5.06s\tremaining: 34.8s\n",
      "127:\tlearn: 0.3077738\ttotal: 5.09s\tremaining: 34.7s\n",
      "128:\tlearn: 0.3071982\ttotal: 5.15s\tremaining: 34.7s\n",
      "129:\tlearn: 0.3065093\ttotal: 5.19s\tremaining: 34.7s\n",
      "130:\tlearn: 0.3059668\ttotal: 5.22s\tremaining: 34.7s\n",
      "131:\tlearn: 0.3054406\ttotal: 5.26s\tremaining: 34.6s\n",
      "132:\tlearn: 0.3049001\ttotal: 5.27s\tremaining: 34.4s\n",
      "133:\tlearn: 0.3042762\ttotal: 5.31s\tremaining: 34.3s\n",
      "134:\tlearn: 0.3037157\ttotal: 5.37s\tremaining: 34.4s\n",
      "135:\tlearn: 0.3030970\ttotal: 5.43s\tremaining: 34.5s\n",
      "136:\tlearn: 0.3026667\ttotal: 5.47s\tremaining: 34.5s\n",
      "137:\tlearn: 0.3021895\ttotal: 5.51s\tremaining: 34.4s\n",
      "138:\tlearn: 0.3017458\ttotal: 5.57s\tremaining: 34.5s\n",
      "139:\tlearn: 0.3012628\ttotal: 5.62s\tremaining: 34.5s\n",
      "140:\tlearn: 0.3008958\ttotal: 5.65s\tremaining: 34.4s\n",
      "141:\tlearn: 0.3006239\ttotal: 5.69s\tremaining: 34.4s\n",
      "142:\tlearn: 0.3001996\ttotal: 5.72s\tremaining: 34.3s\n",
      "143:\tlearn: 0.2997432\ttotal: 5.75s\tremaining: 34.2s\n",
      "144:\tlearn: 0.2993872\ttotal: 5.79s\tremaining: 34.2s\n",
      "145:\tlearn: 0.2990143\ttotal: 5.86s\tremaining: 34.3s\n",
      "146:\tlearn: 0.2985086\ttotal: 5.9s\tremaining: 34.3s\n",
      "147:\tlearn: 0.2981141\ttotal: 5.96s\tremaining: 34.3s\n",
      "148:\tlearn: 0.2977835\ttotal: 6.03s\tremaining: 34.4s\n",
      "149:\tlearn: 0.2972231\ttotal: 6.09s\tremaining: 34.5s\n",
      "150:\tlearn: 0.2968892\ttotal: 6.15s\tremaining: 34.6s\n",
      "151:\tlearn: 0.2964839\ttotal: 6.21s\tremaining: 34.6s\n",
      "152:\tlearn: 0.2961494\ttotal: 6.25s\tremaining: 34.6s\n",
      "153:\tlearn: 0.2958679\ttotal: 6.32s\tremaining: 34.7s\n",
      "154:\tlearn: 0.2954698\ttotal: 6.37s\tremaining: 34.7s\n",
      "155:\tlearn: 0.2949661\ttotal: 6.42s\tremaining: 34.7s\n",
      "156:\tlearn: 0.2947039\ttotal: 6.49s\tremaining: 34.8s\n",
      "157:\tlearn: 0.2942948\ttotal: 6.55s\tremaining: 34.9s\n",
      "158:\tlearn: 0.2939046\ttotal: 6.6s\tremaining: 34.9s\n",
      "159:\tlearn: 0.2935657\ttotal: 6.66s\tremaining: 35s\n",
      "160:\tlearn: 0.2933286\ttotal: 6.71s\tremaining: 35s\n",
      "161:\tlearn: 0.2929533\ttotal: 6.78s\tremaining: 35.1s\n",
      "162:\tlearn: 0.2927047\ttotal: 6.82s\tremaining: 35s\n",
      "163:\tlearn: 0.2924116\ttotal: 6.87s\tremaining: 35s\n"
     ]
    },
    {
     "name": "stdout",
     "output_type": "stream",
     "text": [
      "164:\tlearn: 0.2920074\ttotal: 6.93s\tremaining: 35.1s\n",
      "165:\tlearn: 0.2916891\ttotal: 7s\tremaining: 35.2s\n",
      "166:\tlearn: 0.2914478\ttotal: 7.04s\tremaining: 35.1s\n",
      "167:\tlearn: 0.2911286\ttotal: 7.09s\tremaining: 35.1s\n",
      "168:\tlearn: 0.2908388\ttotal: 7.15s\tremaining: 35.1s\n",
      "169:\tlearn: 0.2904402\ttotal: 7.21s\tremaining: 35.2s\n",
      "170:\tlearn: 0.2901327\ttotal: 7.26s\tremaining: 35.2s\n",
      "171:\tlearn: 0.2898740\ttotal: 7.31s\tremaining: 35.2s\n",
      "172:\tlearn: 0.2895200\ttotal: 7.35s\tremaining: 35.1s\n",
      "173:\tlearn: 0.2892416\ttotal: 7.41s\tremaining: 35.2s\n",
      "174:\tlearn: 0.2889148\ttotal: 7.45s\tremaining: 35.1s\n",
      "175:\tlearn: 0.2887220\ttotal: 7.5s\tremaining: 35.1s\n",
      "176:\tlearn: 0.2883987\ttotal: 7.54s\tremaining: 35.1s\n",
      "177:\tlearn: 0.2881246\ttotal: 7.6s\tremaining: 35.1s\n",
      "178:\tlearn: 0.2877659\ttotal: 7.65s\tremaining: 35.1s\n",
      "179:\tlearn: 0.2874082\ttotal: 7.71s\tremaining: 35.1s\n",
      "180:\tlearn: 0.2870940\ttotal: 7.75s\tremaining: 35.1s\n",
      "181:\tlearn: 0.2868272\ttotal: 7.81s\tremaining: 35.1s\n",
      "182:\tlearn: 0.2866386\ttotal: 7.84s\tremaining: 35s\n",
      "183:\tlearn: 0.2863802\ttotal: 7.89s\tremaining: 35s\n",
      "184:\tlearn: 0.2860583\ttotal: 7.93s\tremaining: 34.9s\n",
      "185:\tlearn: 0.2857862\ttotal: 7.98s\tremaining: 34.9s\n",
      "186:\tlearn: 0.2854685\ttotal: 8.03s\tremaining: 34.9s\n",
      "187:\tlearn: 0.2851507\ttotal: 8.1s\tremaining: 35s\n",
      "188:\tlearn: 0.2848526\ttotal: 8.14s\tremaining: 34.9s\n",
      "189:\tlearn: 0.2846549\ttotal: 8.19s\tremaining: 34.9s\n",
      "190:\tlearn: 0.2843946\ttotal: 8.22s\tremaining: 34.8s\n",
      "191:\tlearn: 0.2840514\ttotal: 8.29s\tremaining: 34.9s\n",
      "192:\tlearn: 0.2837839\ttotal: 8.35s\tremaining: 34.9s\n",
      "193:\tlearn: 0.2835328\ttotal: 8.38s\tremaining: 34.8s\n",
      "194:\tlearn: 0.2832550\ttotal: 8.44s\tremaining: 34.9s\n",
      "195:\tlearn: 0.2830440\ttotal: 8.5s\tremaining: 34.9s\n",
      "196:\tlearn: 0.2828080\ttotal: 8.57s\tremaining: 34.9s\n",
      "197:\tlearn: 0.2825614\ttotal: 8.62s\tremaining: 34.9s\n",
      "198:\tlearn: 0.2822472\ttotal: 8.66s\tremaining: 34.8s\n",
      "199:\tlearn: 0.2820443\ttotal: 8.69s\tremaining: 34.8s\n",
      "200:\tlearn: 0.2818940\ttotal: 8.75s\tremaining: 34.8s\n",
      "201:\tlearn: 0.2817626\ttotal: 8.8s\tremaining: 34.8s\n",
      "202:\tlearn: 0.2815190\ttotal: 8.84s\tremaining: 34.7s\n",
      "203:\tlearn: 0.2812990\ttotal: 8.87s\tremaining: 34.6s\n",
      "204:\tlearn: 0.2810180\ttotal: 8.91s\tremaining: 34.6s\n",
      "205:\tlearn: 0.2807896\ttotal: 8.95s\tremaining: 34.5s\n",
      "206:\tlearn: 0.2807065\ttotal: 9s\tremaining: 34.5s\n",
      "207:\tlearn: 0.2804991\ttotal: 9.05s\tremaining: 34.5s\n",
      "208:\tlearn: 0.2803132\ttotal: 9.11s\tremaining: 34.5s\n",
      "209:\tlearn: 0.2800939\ttotal: 9.15s\tremaining: 34.4s\n",
      "210:\tlearn: 0.2799291\ttotal: 9.22s\tremaining: 34.5s\n",
      "211:\tlearn: 0.2797358\ttotal: 9.29s\tremaining: 34.5s\n",
      "212:\tlearn: 0.2795858\ttotal: 9.33s\tremaining: 34.5s\n",
      "213:\tlearn: 0.2793922\ttotal: 9.38s\tremaining: 34.4s\n",
      "214:\tlearn: 0.2791386\ttotal: 9.43s\tremaining: 34.4s\n",
      "215:\tlearn: 0.2790139\ttotal: 9.49s\tremaining: 34.4s\n",
      "216:\tlearn: 0.2788671\ttotal: 9.54s\tremaining: 34.4s\n",
      "217:\tlearn: 0.2786316\ttotal: 9.6s\tremaining: 34.4s\n",
      "218:\tlearn: 0.2785043\ttotal: 9.64s\tremaining: 34.4s\n",
      "219:\tlearn: 0.2783198\ttotal: 9.72s\tremaining: 34.5s\n",
      "220:\tlearn: 0.2781109\ttotal: 9.79s\tremaining: 34.5s\n",
      "221:\tlearn: 0.2779281\ttotal: 9.82s\tremaining: 34.4s\n",
      "222:\tlearn: 0.2777973\ttotal: 9.88s\tremaining: 34.4s\n",
      "223:\tlearn: 0.2776070\ttotal: 9.94s\tremaining: 34.4s\n",
      "224:\tlearn: 0.2774520\ttotal: 9.98s\tremaining: 34.4s\n",
      "225:\tlearn: 0.2773228\ttotal: 10s\tremaining: 34.3s\n",
      "226:\tlearn: 0.2771597\ttotal: 10.1s\tremaining: 34.3s\n",
      "227:\tlearn: 0.2769626\ttotal: 10.1s\tremaining: 34.4s\n",
      "228:\tlearn: 0.2768815\ttotal: 10.2s\tremaining: 34.4s\n",
      "229:\tlearn: 0.2766424\ttotal: 10.3s\tremaining: 34.4s\n",
      "230:\tlearn: 0.2764433\ttotal: 10.3s\tremaining: 34.4s\n",
      "231:\tlearn: 0.2762899\ttotal: 10.4s\tremaining: 34.3s\n",
      "232:\tlearn: 0.2761764\ttotal: 10.4s\tremaining: 34.3s\n",
      "233:\tlearn: 0.2760884\ttotal: 10.5s\tremaining: 34.3s\n",
      "234:\tlearn: 0.2759218\ttotal: 10.5s\tremaining: 34.2s\n",
      "235:\tlearn: 0.2757353\ttotal: 10.5s\tremaining: 34.1s\n",
      "236:\tlearn: 0.2754972\ttotal: 10.6s\tremaining: 34.2s\n",
      "237:\tlearn: 0.2753198\ttotal: 10.7s\tremaining: 34.2s\n",
      "238:\tlearn: 0.2750901\ttotal: 10.7s\tremaining: 34.1s\n",
      "239:\tlearn: 0.2748770\ttotal: 10.8s\tremaining: 34.1s\n",
      "240:\tlearn: 0.2747184\ttotal: 10.8s\tremaining: 34.1s\n",
      "241:\tlearn: 0.2745595\ttotal: 10.9s\tremaining: 34.1s\n",
      "242:\tlearn: 0.2743951\ttotal: 11s\tremaining: 34.1s\n",
      "243:\tlearn: 0.2741729\ttotal: 11s\tremaining: 34.1s\n",
      "244:\tlearn: 0.2740925\ttotal: 11.1s\tremaining: 34.1s\n",
      "245:\tlearn: 0.2739379\ttotal: 11.1s\tremaining: 34.1s\n",
      "246:\tlearn: 0.2737781\ttotal: 11.2s\tremaining: 34.1s\n",
      "247:\tlearn: 0.2736353\ttotal: 11.2s\tremaining: 34s\n",
      "248:\tlearn: 0.2734946\ttotal: 11.3s\tremaining: 34s\n",
      "249:\tlearn: 0.2733565\ttotal: 11.3s\tremaining: 34s\n",
      "250:\tlearn: 0.2732774\ttotal: 11.4s\tremaining: 34s\n",
      "251:\tlearn: 0.2731740\ttotal: 11.4s\tremaining: 34s\n",
      "252:\tlearn: 0.2730816\ttotal: 11.5s\tremaining: 34s\n",
      "253:\tlearn: 0.2729167\ttotal: 11.6s\tremaining: 34s\n",
      "254:\tlearn: 0.2727765\ttotal: 11.6s\tremaining: 33.9s\n",
      "255:\tlearn: 0.2726415\ttotal: 11.7s\tremaining: 33.9s\n",
      "256:\tlearn: 0.2725230\ttotal: 11.7s\tremaining: 33.8s\n",
      "257:\tlearn: 0.2723532\ttotal: 11.7s\tremaining: 33.7s\n",
      "258:\tlearn: 0.2722414\ttotal: 11.8s\tremaining: 33.7s\n",
      "259:\tlearn: 0.2721390\ttotal: 11.8s\tremaining: 33.7s\n",
      "260:\tlearn: 0.2720393\ttotal: 11.9s\tremaining: 33.6s\n",
      "261:\tlearn: 0.2718841\ttotal: 11.9s\tremaining: 33.5s\n",
      "262:\tlearn: 0.2717551\ttotal: 12s\tremaining: 33.5s\n",
      "263:\tlearn: 0.2716702\ttotal: 12s\tremaining: 33.5s\n",
      "264:\tlearn: 0.2715350\ttotal: 12.1s\tremaining: 33.4s\n",
      "265:\tlearn: 0.2713559\ttotal: 12.1s\tremaining: 33.4s\n",
      "266:\tlearn: 0.2712064\ttotal: 12.1s\tremaining: 33.3s\n",
      "267:\tlearn: 0.2710658\ttotal: 12.2s\tremaining: 33.2s\n",
      "268:\tlearn: 0.2709213\ttotal: 12.2s\tremaining: 33.2s\n",
      "269:\tlearn: 0.2708004\ttotal: 12.3s\tremaining: 33.2s\n",
      "270:\tlearn: 0.2706547\ttotal: 12.3s\tremaining: 33.1s\n",
      "271:\tlearn: 0.2705019\ttotal: 12.4s\tremaining: 33.1s\n",
      "272:\tlearn: 0.2703751\ttotal: 12.4s\tremaining: 33s\n",
      "273:\tlearn: 0.2702636\ttotal: 12.5s\tremaining: 33s\n",
      "274:\tlearn: 0.2701525\ttotal: 12.5s\tremaining: 33s\n",
      "275:\tlearn: 0.2700360\ttotal: 12.5s\tremaining: 32.9s\n",
      "276:\tlearn: 0.2699306\ttotal: 12.6s\tremaining: 32.8s\n",
      "277:\tlearn: 0.2698417\ttotal: 12.6s\tremaining: 32.8s\n",
      "278:\tlearn: 0.2697229\ttotal: 12.7s\tremaining: 32.8s\n",
      "279:\tlearn: 0.2695782\ttotal: 12.7s\tremaining: 32.7s\n",
      "280:\tlearn: 0.2694652\ttotal: 12.8s\tremaining: 32.6s\n",
      "281:\tlearn: 0.2693780\ttotal: 12.8s\tremaining: 32.6s\n",
      "282:\tlearn: 0.2692692\ttotal: 12.8s\tremaining: 32.5s\n",
      "283:\tlearn: 0.2691586\ttotal: 12.9s\tremaining: 32.5s\n",
      "284:\tlearn: 0.2690582\ttotal: 12.9s\tremaining: 32.5s\n",
      "285:\tlearn: 0.2689687\ttotal: 13s\tremaining: 32.4s\n",
      "286:\tlearn: 0.2688511\ttotal: 13s\tremaining: 32.3s\n",
      "287:\tlearn: 0.2687028\ttotal: 13.1s\tremaining: 32.3s\n",
      "288:\tlearn: 0.2686166\ttotal: 13.1s\tremaining: 32.2s\n",
      "289:\tlearn: 0.2684699\ttotal: 13.2s\tremaining: 32.2s\n",
      "290:\tlearn: 0.2683481\ttotal: 13.2s\tremaining: 32.2s\n",
      "291:\tlearn: 0.2682419\ttotal: 13.2s\tremaining: 32.1s\n",
      "292:\tlearn: 0.2681723\ttotal: 13.3s\tremaining: 32.1s\n",
      "293:\tlearn: 0.2680798\ttotal: 13.3s\tremaining: 32s\n",
      "294:\tlearn: 0.2679969\ttotal: 13.4s\tremaining: 32s\n",
      "295:\tlearn: 0.2678300\ttotal: 13.5s\tremaining: 32.1s\n",
      "296:\tlearn: 0.2677236\ttotal: 13.5s\tremaining: 32s\n",
      "297:\tlearn: 0.2676287\ttotal: 13.6s\tremaining: 32s\n",
      "298:\tlearn: 0.2675247\ttotal: 13.7s\tremaining: 32s\n",
      "299:\tlearn: 0.2673853\ttotal: 13.7s\tremaining: 32s\n",
      "300:\tlearn: 0.2672557\ttotal: 13.8s\tremaining: 31.9s\n",
      "301:\tlearn: 0.2671290\ttotal: 13.8s\tremaining: 31.9s\n",
      "302:\tlearn: 0.2670287\ttotal: 13.8s\tremaining: 31.8s\n",
      "303:\tlearn: 0.2669349\ttotal: 13.9s\tremaining: 31.8s\n",
      "304:\tlearn: 0.2668456\ttotal: 14s\tremaining: 31.8s\n",
      "305:\tlearn: 0.2667737\ttotal: 14s\tremaining: 31.8s\n",
      "306:\tlearn: 0.2666818\ttotal: 14s\tremaining: 31.7s\n",
      "307:\tlearn: 0.2665400\ttotal: 14.1s\tremaining: 31.6s\n",
      "308:\tlearn: 0.2664224\ttotal: 14.1s\tremaining: 31.6s\n",
      "309:\tlearn: 0.2663496\ttotal: 14.2s\tremaining: 31.6s\n",
      "310:\tlearn: 0.2662703\ttotal: 14.3s\tremaining: 31.6s\n",
      "311:\tlearn: 0.2662140\ttotal: 14.3s\tremaining: 31.5s\n",
      "312:\tlearn: 0.2661131\ttotal: 14.3s\tremaining: 31.4s\n",
      "313:\tlearn: 0.2660066\ttotal: 14.4s\tremaining: 31.4s\n",
      "314:\tlearn: 0.2659083\ttotal: 14.4s\tremaining: 31.4s\n",
      "315:\tlearn: 0.2658074\ttotal: 14.5s\tremaining: 31.3s\n",
      "316:\tlearn: 0.2657245\ttotal: 14.5s\tremaining: 31.3s\n",
      "317:\tlearn: 0.2656414\ttotal: 14.5s\tremaining: 31.2s\n",
      "318:\tlearn: 0.2655429\ttotal: 14.6s\tremaining: 31.1s\n",
      "319:\tlearn: 0.2654666\ttotal: 14.7s\tremaining: 31.1s\n",
      "320:\tlearn: 0.2653844\ttotal: 14.7s\tremaining: 31.1s\n",
      "321:\tlearn: 0.2653004\ttotal: 14.7s\tremaining: 31s\n",
      "322:\tlearn: 0.2652336\ttotal: 14.8s\tremaining: 31s\n",
      "323:\tlearn: 0.2652002\ttotal: 14.8s\tremaining: 30.8s\n"
     ]
    },
    {
     "name": "stdout",
     "output_type": "stream",
     "text": [
      "324:\tlearn: 0.2651655\ttotal: 14.8s\tremaining: 30.8s\n",
      "325:\tlearn: 0.2650884\ttotal: 14.9s\tremaining: 30.8s\n",
      "326:\tlearn: 0.2650467\ttotal: 14.9s\tremaining: 30.7s\n",
      "327:\tlearn: 0.2649771\ttotal: 15s\tremaining: 30.6s\n",
      "328:\tlearn: 0.2649244\ttotal: 15s\tremaining: 30.5s\n",
      "329:\tlearn: 0.2648674\ttotal: 15s\tremaining: 30.5s\n",
      "330:\tlearn: 0.2647941\ttotal: 15.1s\tremaining: 30.4s\n",
      "331:\tlearn: 0.2647190\ttotal: 15.1s\tremaining: 30.4s\n",
      "332:\tlearn: 0.2646306\ttotal: 15.1s\tremaining: 30.3s\n",
      "333:\tlearn: 0.2645823\ttotal: 15.2s\tremaining: 30.3s\n",
      "334:\tlearn: 0.2645094\ttotal: 15.2s\tremaining: 30.2s\n",
      "335:\tlearn: 0.2644386\ttotal: 15.2s\tremaining: 30.1s\n",
      "336:\tlearn: 0.2643737\ttotal: 15.3s\tremaining: 30.1s\n",
      "337:\tlearn: 0.2642455\ttotal: 15.4s\tremaining: 30.1s\n",
      "338:\tlearn: 0.2641993\ttotal: 15.4s\tremaining: 30.1s\n",
      "339:\tlearn: 0.2641394\ttotal: 15.5s\tremaining: 30s\n",
      "340:\tlearn: 0.2640879\ttotal: 15.5s\tremaining: 29.9s\n",
      "341:\tlearn: 0.2639986\ttotal: 15.5s\tremaining: 29.9s\n",
      "342:\tlearn: 0.2639150\ttotal: 15.6s\tremaining: 29.9s\n",
      "343:\tlearn: 0.2638685\ttotal: 15.6s\tremaining: 29.8s\n",
      "344:\tlearn: 0.2637702\ttotal: 15.7s\tremaining: 29.8s\n",
      "345:\tlearn: 0.2636533\ttotal: 15.7s\tremaining: 29.7s\n",
      "346:\tlearn: 0.2636172\ttotal: 15.7s\tremaining: 29.6s\n",
      "347:\tlearn: 0.2635711\ttotal: 15.8s\tremaining: 29.6s\n",
      "348:\tlearn: 0.2634819\ttotal: 15.9s\tremaining: 29.6s\n",
      "349:\tlearn: 0.2633995\ttotal: 15.9s\tremaining: 29.6s\n",
      "350:\tlearn: 0.2633463\ttotal: 16s\tremaining: 29.5s\n",
      "351:\tlearn: 0.2632826\ttotal: 16s\tremaining: 29.5s\n",
      "352:\tlearn: 0.2632071\ttotal: 16.1s\tremaining: 29.5s\n",
      "353:\tlearn: 0.2631023\ttotal: 16.1s\tremaining: 29.4s\n",
      "354:\tlearn: 0.2629871\ttotal: 16.2s\tremaining: 29.4s\n",
      "355:\tlearn: 0.2629150\ttotal: 16.2s\tremaining: 29.3s\n",
      "356:\tlearn: 0.2628446\ttotal: 16.3s\tremaining: 29.3s\n",
      "357:\tlearn: 0.2628004\ttotal: 16.3s\tremaining: 29.3s\n",
      "358:\tlearn: 0.2627388\ttotal: 16.4s\tremaining: 29.2s\n",
      "359:\tlearn: 0.2626918\ttotal: 16.4s\tremaining: 29.1s\n",
      "360:\tlearn: 0.2626212\ttotal: 16.4s\tremaining: 29.1s\n",
      "361:\tlearn: 0.2625742\ttotal: 16.5s\tremaining: 29.1s\n",
      "362:\tlearn: 0.2625549\ttotal: 16.5s\tremaining: 29s\n",
      "363:\tlearn: 0.2624712\ttotal: 16.6s\tremaining: 29s\n",
      "364:\tlearn: 0.2623850\ttotal: 16.6s\tremaining: 28.9s\n",
      "365:\tlearn: 0.2623053\ttotal: 16.6s\tremaining: 28.8s\n",
      "366:\tlearn: 0.2622385\ttotal: 16.7s\tremaining: 28.8s\n",
      "367:\tlearn: 0.2621662\ttotal: 16.8s\tremaining: 28.8s\n",
      "368:\tlearn: 0.2620999\ttotal: 16.8s\tremaining: 28.7s\n",
      "369:\tlearn: 0.2620430\ttotal: 16.8s\tremaining: 28.6s\n",
      "370:\tlearn: 0.2619623\ttotal: 16.9s\tremaining: 28.6s\n",
      "371:\tlearn: 0.2618895\ttotal: 16.9s\tremaining: 28.6s\n",
      "372:\tlearn: 0.2618143\ttotal: 17s\tremaining: 28.5s\n",
      "373:\tlearn: 0.2617540\ttotal: 17s\tremaining: 28.5s\n",
      "374:\tlearn: 0.2617042\ttotal: 17s\tremaining: 28.4s\n",
      "375:\tlearn: 0.2616550\ttotal: 17.1s\tremaining: 28.3s\n",
      "376:\tlearn: 0.2615798\ttotal: 17.1s\tremaining: 28.3s\n",
      "377:\tlearn: 0.2615139\ttotal: 17.2s\tremaining: 28.3s\n",
      "378:\tlearn: 0.2614459\ttotal: 17.2s\tremaining: 28.2s\n",
      "379:\tlearn: 0.2613776\ttotal: 17.3s\tremaining: 28.2s\n",
      "380:\tlearn: 0.2612730\ttotal: 17.3s\tremaining: 28.1s\n",
      "381:\tlearn: 0.2611864\ttotal: 17.3s\tremaining: 28s\n",
      "382:\tlearn: 0.2610798\ttotal: 17.4s\tremaining: 28s\n",
      "383:\tlearn: 0.2610228\ttotal: 17.5s\tremaining: 28s\n",
      "384:\tlearn: 0.2609607\ttotal: 17.5s\tremaining: 28s\n",
      "385:\tlearn: 0.2609159\ttotal: 17.6s\tremaining: 28s\n",
      "386:\tlearn: 0.2608633\ttotal: 17.6s\tremaining: 27.9s\n",
      "387:\tlearn: 0.2608312\ttotal: 17.7s\tremaining: 27.9s\n",
      "388:\tlearn: 0.2607704\ttotal: 17.7s\tremaining: 27.8s\n",
      "389:\tlearn: 0.2606689\ttotal: 17.7s\tremaining: 27.8s\n",
      "390:\tlearn: 0.2605856\ttotal: 17.8s\tremaining: 27.7s\n",
      "391:\tlearn: 0.2605314\ttotal: 17.8s\tremaining: 27.7s\n",
      "392:\tlearn: 0.2604722\ttotal: 17.9s\tremaining: 27.7s\n",
      "393:\tlearn: 0.2603858\ttotal: 18s\tremaining: 27.7s\n",
      "394:\tlearn: 0.2603414\ttotal: 18s\tremaining: 27.6s\n",
      "395:\tlearn: 0.2602945\ttotal: 18.1s\tremaining: 27.6s\n",
      "396:\tlearn: 0.2602459\ttotal: 18.1s\tremaining: 27.5s\n",
      "397:\tlearn: 0.2601948\ttotal: 18.1s\tremaining: 27.5s\n",
      "398:\tlearn: 0.2601063\ttotal: 18.2s\tremaining: 27.4s\n",
      "399:\tlearn: 0.2600486\ttotal: 18.2s\tremaining: 27.4s\n",
      "400:\tlearn: 0.2600100\ttotal: 18.3s\tremaining: 27.3s\n",
      "401:\tlearn: 0.2599234\ttotal: 18.3s\tremaining: 27.3s\n",
      "402:\tlearn: 0.2598798\ttotal: 18.4s\tremaining: 27.2s\n",
      "403:\tlearn: 0.2597976\ttotal: 18.4s\tremaining: 27.2s\n",
      "404:\tlearn: 0.2597506\ttotal: 18.5s\tremaining: 27.1s\n",
      "405:\tlearn: 0.2596866\ttotal: 18.5s\tremaining: 27.1s\n",
      "406:\tlearn: 0.2596362\ttotal: 18.6s\tremaining: 27s\n",
      "407:\tlearn: 0.2595759\ttotal: 18.6s\tremaining: 27s\n",
      "408:\tlearn: 0.2595374\ttotal: 18.6s\tremaining: 26.9s\n",
      "409:\tlearn: 0.2594943\ttotal: 18.7s\tremaining: 26.9s\n",
      "410:\tlearn: 0.2594626\ttotal: 18.7s\tremaining: 26.9s\n",
      "411:\tlearn: 0.2593940\ttotal: 18.8s\tremaining: 26.8s\n",
      "412:\tlearn: 0.2593191\ttotal: 18.8s\tremaining: 26.7s\n",
      "413:\tlearn: 0.2592566\ttotal: 18.9s\tremaining: 26.7s\n",
      "414:\tlearn: 0.2591750\ttotal: 18.9s\tremaining: 26.6s\n",
      "415:\tlearn: 0.2591127\ttotal: 19s\tremaining: 26.6s\n",
      "416:\tlearn: 0.2590788\ttotal: 19s\tremaining: 26.6s\n",
      "417:\tlearn: 0.2590352\ttotal: 19s\tremaining: 26.5s\n",
      "418:\tlearn: 0.2589775\ttotal: 19.1s\tremaining: 26.4s\n",
      "419:\tlearn: 0.2589538\ttotal: 19.1s\tremaining: 26.4s\n",
      "420:\tlearn: 0.2588908\ttotal: 19.2s\tremaining: 26.3s\n",
      "421:\tlearn: 0.2588764\ttotal: 19.2s\tremaining: 26.3s\n",
      "422:\tlearn: 0.2588471\ttotal: 19.3s\tremaining: 26.3s\n",
      "423:\tlearn: 0.2587719\ttotal: 19.3s\tremaining: 26.2s\n",
      "424:\tlearn: 0.2587692\ttotal: 19.3s\tremaining: 26.1s\n",
      "425:\tlearn: 0.2587379\ttotal: 19.3s\tremaining: 26s\n",
      "426:\tlearn: 0.2586778\ttotal: 19.4s\tremaining: 26s\n",
      "427:\tlearn: 0.2586254\ttotal: 19.4s\tremaining: 26s\n",
      "428:\tlearn: 0.2585432\ttotal: 19.5s\tremaining: 25.9s\n",
      "429:\tlearn: 0.2584803\ttotal: 19.5s\tremaining: 25.9s\n",
      "430:\tlearn: 0.2584005\ttotal: 19.6s\tremaining: 25.8s\n",
      "431:\tlearn: 0.2583217\ttotal: 19.6s\tremaining: 25.8s\n",
      "432:\tlearn: 0.2582702\ttotal: 19.7s\tremaining: 25.8s\n",
      "433:\tlearn: 0.2582298\ttotal: 19.7s\tremaining: 25.7s\n",
      "434:\tlearn: 0.2581586\ttotal: 19.8s\tremaining: 25.7s\n",
      "435:\tlearn: 0.2580978\ttotal: 19.8s\tremaining: 25.7s\n",
      "436:\tlearn: 0.2580178\ttotal: 19.9s\tremaining: 25.6s\n",
      "437:\tlearn: 0.2579396\ttotal: 20s\tremaining: 25.6s\n",
      "438:\tlearn: 0.2578934\ttotal: 20s\tremaining: 25.6s\n",
      "439:\tlearn: 0.2578171\ttotal: 20s\tremaining: 25.5s\n",
      "440:\tlearn: 0.2577564\ttotal: 20.1s\tremaining: 25.5s\n",
      "441:\tlearn: 0.2576944\ttotal: 20.1s\tremaining: 25.4s\n",
      "442:\tlearn: 0.2576768\ttotal: 20.2s\tremaining: 25.4s\n",
      "443:\tlearn: 0.2576446\ttotal: 20.2s\tremaining: 25.3s\n",
      "444:\tlearn: 0.2575990\ttotal: 20.2s\tremaining: 25.2s\n",
      "445:\tlearn: 0.2575331\ttotal: 20.3s\tremaining: 25.2s\n",
      "446:\tlearn: 0.2574839\ttotal: 20.4s\tremaining: 25.2s\n",
      "447:\tlearn: 0.2574518\ttotal: 20.4s\tremaining: 25.1s\n",
      "448:\tlearn: 0.2573391\ttotal: 20.4s\tremaining: 25.1s\n",
      "449:\tlearn: 0.2572878\ttotal: 20.5s\tremaining: 25s\n",
      "450:\tlearn: 0.2572431\ttotal: 20.5s\tremaining: 25s\n",
      "451:\tlearn: 0.2572076\ttotal: 20.5s\tremaining: 24.9s\n",
      "452:\tlearn: 0.2571751\ttotal: 20.6s\tremaining: 24.9s\n",
      "453:\tlearn: 0.2571579\ttotal: 20.7s\tremaining: 24.8s\n",
      "454:\tlearn: 0.2571051\ttotal: 20.7s\tremaining: 24.8s\n",
      "455:\tlearn: 0.2570608\ttotal: 20.8s\tremaining: 24.8s\n",
      "456:\tlearn: 0.2570240\ttotal: 20.8s\tremaining: 24.7s\n",
      "457:\tlearn: 0.2569489\ttotal: 20.9s\tremaining: 24.7s\n",
      "458:\tlearn: 0.2568666\ttotal: 21s\tremaining: 24.7s\n",
      "459:\tlearn: 0.2568129\ttotal: 21s\tremaining: 24.7s\n",
      "460:\tlearn: 0.2567889\ttotal: 21.1s\tremaining: 24.7s\n",
      "461:\tlearn: 0.2567587\ttotal: 21.2s\tremaining: 24.7s\n",
      "462:\tlearn: 0.2567200\ttotal: 21.2s\tremaining: 24.6s\n",
      "463:\tlearn: 0.2566535\ttotal: 21.3s\tremaining: 24.6s\n",
      "464:\tlearn: 0.2566216\ttotal: 21.4s\tremaining: 24.6s\n",
      "465:\tlearn: 0.2565159\ttotal: 21.4s\tremaining: 24.5s\n",
      "466:\tlearn: 0.2564950\ttotal: 21.4s\tremaining: 24.5s\n",
      "467:\tlearn: 0.2564272\ttotal: 21.5s\tremaining: 24.4s\n",
      "468:\tlearn: 0.2563818\ttotal: 21.5s\tremaining: 24.4s\n",
      "469:\tlearn: 0.2563191\ttotal: 21.6s\tremaining: 24.3s\n",
      "470:\tlearn: 0.2562590\ttotal: 21.6s\tremaining: 24.3s\n",
      "471:\tlearn: 0.2561802\ttotal: 21.7s\tremaining: 24.2s\n",
      "472:\tlearn: 0.2561546\ttotal: 21.7s\tremaining: 24.2s\n",
      "473:\tlearn: 0.2560495\ttotal: 21.7s\tremaining: 24.1s\n",
      "474:\tlearn: 0.2560222\ttotal: 21.8s\tremaining: 24.1s\n",
      "475:\tlearn: 0.2559526\ttotal: 21.8s\tremaining: 24s\n",
      "476:\tlearn: 0.2559121\ttotal: 21.9s\tremaining: 24s\n",
      "477:\tlearn: 0.2558590\ttotal: 21.9s\tremaining: 23.9s\n",
      "478:\tlearn: 0.2558124\ttotal: 21.9s\tremaining: 23.9s\n",
      "479:\tlearn: 0.2557697\ttotal: 22s\tremaining: 23.8s\n",
      "480:\tlearn: 0.2556963\ttotal: 22.1s\tremaining: 23.8s\n",
      "481:\tlearn: 0.2556724\ttotal: 22.1s\tremaining: 23.7s\n",
      "482:\tlearn: 0.2556367\ttotal: 22.1s\tremaining: 23.7s\n",
      "483:\tlearn: 0.2556020\ttotal: 22.2s\tremaining: 23.6s\n",
      "484:\tlearn: 0.2555548\ttotal: 22.2s\tremaining: 23.6s\n"
     ]
    },
    {
     "name": "stdout",
     "output_type": "stream",
     "text": [
      "485:\tlearn: 0.2554710\ttotal: 22.2s\tremaining: 23.5s\n",
      "486:\tlearn: 0.2554380\ttotal: 22.3s\tremaining: 23.5s\n",
      "487:\tlearn: 0.2554193\ttotal: 22.3s\tremaining: 23.4s\n",
      "488:\tlearn: 0.2553808\ttotal: 22.4s\tremaining: 23.4s\n",
      "489:\tlearn: 0.2553268\ttotal: 22.4s\tremaining: 23.3s\n",
      "490:\tlearn: 0.2552648\ttotal: 22.5s\tremaining: 23.3s\n",
      "491:\tlearn: 0.2551992\ttotal: 22.5s\tremaining: 23.3s\n",
      "492:\tlearn: 0.2551478\ttotal: 22.6s\tremaining: 23.2s\n",
      "493:\tlearn: 0.2550798\ttotal: 22.6s\tremaining: 23.1s\n",
      "494:\tlearn: 0.2550208\ttotal: 22.6s\tremaining: 23.1s\n",
      "495:\tlearn: 0.2549749\ttotal: 22.7s\tremaining: 23s\n",
      "496:\tlearn: 0.2549152\ttotal: 22.7s\tremaining: 23s\n",
      "497:\tlearn: 0.2548794\ttotal: 22.8s\tremaining: 22.9s\n",
      "498:\tlearn: 0.2548009\ttotal: 22.8s\tremaining: 22.9s\n",
      "499:\tlearn: 0.2547420\ttotal: 22.8s\tremaining: 22.8s\n",
      "500:\tlearn: 0.2546872\ttotal: 22.9s\tremaining: 22.8s\n",
      "501:\tlearn: 0.2546415\ttotal: 22.9s\tremaining: 22.7s\n",
      "502:\tlearn: 0.2545717\ttotal: 23s\tremaining: 22.7s\n",
      "503:\tlearn: 0.2545429\ttotal: 23s\tremaining: 22.6s\n",
      "504:\tlearn: 0.2544727\ttotal: 23s\tremaining: 22.6s\n",
      "505:\tlearn: 0.2544454\ttotal: 23.1s\tremaining: 22.5s\n",
      "506:\tlearn: 0.2543930\ttotal: 23.1s\tremaining: 22.5s\n",
      "507:\tlearn: 0.2543192\ttotal: 23.1s\tremaining: 22.4s\n",
      "508:\tlearn: 0.2542765\ttotal: 23.2s\tremaining: 22.4s\n",
      "509:\tlearn: 0.2542493\ttotal: 23.2s\tremaining: 22.3s\n",
      "510:\tlearn: 0.2541928\ttotal: 23.3s\tremaining: 22.3s\n",
      "511:\tlearn: 0.2541412\ttotal: 23.3s\tremaining: 22.2s\n",
      "512:\tlearn: 0.2540802\ttotal: 23.3s\tremaining: 22.1s\n",
      "513:\tlearn: 0.2540335\ttotal: 23.4s\tremaining: 22.1s\n",
      "514:\tlearn: 0.2540096\ttotal: 23.4s\tremaining: 22.1s\n",
      "515:\tlearn: 0.2539696\ttotal: 23.5s\tremaining: 22s\n",
      "516:\tlearn: 0.2539318\ttotal: 23.5s\tremaining: 21.9s\n",
      "517:\tlearn: 0.2538615\ttotal: 23.5s\tremaining: 21.9s\n",
      "518:\tlearn: 0.2537853\ttotal: 23.6s\tremaining: 21.8s\n",
      "519:\tlearn: 0.2537212\ttotal: 23.6s\tremaining: 21.8s\n",
      "520:\tlearn: 0.2536484\ttotal: 23.7s\tremaining: 21.7s\n",
      "521:\tlearn: 0.2535985\ttotal: 23.7s\tremaining: 21.7s\n",
      "522:\tlearn: 0.2535226\ttotal: 23.7s\tremaining: 21.6s\n",
      "523:\tlearn: 0.2534721\ttotal: 23.8s\tremaining: 21.6s\n",
      "524:\tlearn: 0.2534104\ttotal: 23.8s\tremaining: 21.5s\n",
      "525:\tlearn: 0.2533850\ttotal: 23.8s\tremaining: 21.5s\n",
      "526:\tlearn: 0.2533555\ttotal: 23.9s\tremaining: 21.4s\n",
      "527:\tlearn: 0.2533281\ttotal: 23.9s\tremaining: 21.4s\n",
      "528:\tlearn: 0.2532771\ttotal: 24s\tremaining: 21.3s\n",
      "529:\tlearn: 0.2532096\ttotal: 24s\tremaining: 21.3s\n",
      "530:\tlearn: 0.2531533\ttotal: 24s\tremaining: 21.2s\n",
      "531:\tlearn: 0.2531258\ttotal: 24.1s\tremaining: 21.2s\n",
      "532:\tlearn: 0.2530955\ttotal: 24.1s\tremaining: 21.1s\n",
      "533:\tlearn: 0.2529944\ttotal: 24.2s\tremaining: 21.1s\n",
      "534:\tlearn: 0.2529687\ttotal: 24.2s\tremaining: 21s\n",
      "535:\tlearn: 0.2528952\ttotal: 24.2s\tremaining: 21s\n",
      "536:\tlearn: 0.2527989\ttotal: 24.3s\tremaining: 20.9s\n",
      "537:\tlearn: 0.2527679\ttotal: 24.3s\tremaining: 20.9s\n",
      "538:\tlearn: 0.2527215\ttotal: 24.4s\tremaining: 20.8s\n",
      "539:\tlearn: 0.2526818\ttotal: 24.4s\tremaining: 20.8s\n",
      "540:\tlearn: 0.2526010\ttotal: 24.4s\tremaining: 20.7s\n",
      "541:\tlearn: 0.2525658\ttotal: 24.5s\tremaining: 20.7s\n",
      "542:\tlearn: 0.2525433\ttotal: 24.5s\tremaining: 20.6s\n",
      "543:\tlearn: 0.2524894\ttotal: 24.5s\tremaining: 20.6s\n",
      "544:\tlearn: 0.2524586\ttotal: 24.6s\tremaining: 20.5s\n",
      "545:\tlearn: 0.2524220\ttotal: 24.6s\tremaining: 20.5s\n",
      "546:\tlearn: 0.2523373\ttotal: 24.7s\tremaining: 20.4s\n",
      "547:\tlearn: 0.2523133\ttotal: 24.7s\tremaining: 20.4s\n",
      "548:\tlearn: 0.2522805\ttotal: 24.7s\tremaining: 20.3s\n",
      "549:\tlearn: 0.2522526\ttotal: 24.8s\tremaining: 20.3s\n",
      "550:\tlearn: 0.2522048\ttotal: 24.8s\tremaining: 20.2s\n",
      "551:\tlearn: 0.2521672\ttotal: 24.9s\tremaining: 20.2s\n",
      "552:\tlearn: 0.2521303\ttotal: 24.9s\tremaining: 20.1s\n",
      "553:\tlearn: 0.2521014\ttotal: 24.9s\tremaining: 20.1s\n",
      "554:\tlearn: 0.2520541\ttotal: 25s\tremaining: 20s\n",
      "555:\tlearn: 0.2520036\ttotal: 25s\tremaining: 20s\n",
      "556:\tlearn: 0.2519873\ttotal: 25.1s\tremaining: 19.9s\n",
      "557:\tlearn: 0.2519415\ttotal: 25.1s\tremaining: 19.9s\n",
      "558:\tlearn: 0.2519155\ttotal: 25.1s\tremaining: 19.8s\n",
      "559:\tlearn: 0.2518739\ttotal: 25.2s\tremaining: 19.8s\n",
      "560:\tlearn: 0.2518418\ttotal: 25.2s\tremaining: 19.7s\n",
      "561:\tlearn: 0.2518129\ttotal: 25.2s\tremaining: 19.7s\n",
      "562:\tlearn: 0.2518120\ttotal: 25.2s\tremaining: 19.6s\n",
      "563:\tlearn: 0.2517500\ttotal: 25.3s\tremaining: 19.6s\n",
      "564:\tlearn: 0.2517051\ttotal: 25.3s\tremaining: 19.5s\n",
      "565:\tlearn: 0.2516646\ttotal: 25.4s\tremaining: 19.4s\n",
      "566:\tlearn: 0.2516094\ttotal: 25.4s\tremaining: 19.4s\n",
      "567:\tlearn: 0.2515739\ttotal: 25.4s\tremaining: 19.3s\n",
      "568:\tlearn: 0.2515307\ttotal: 25.5s\tremaining: 19.3s\n",
      "569:\tlearn: 0.2514932\ttotal: 25.5s\tremaining: 19.3s\n",
      "570:\tlearn: 0.2514672\ttotal: 25.6s\tremaining: 19.2s\n",
      "571:\tlearn: 0.2513852\ttotal: 25.6s\tremaining: 19.1s\n",
      "572:\tlearn: 0.2513003\ttotal: 25.6s\tremaining: 19.1s\n",
      "573:\tlearn: 0.2512784\ttotal: 25.7s\tremaining: 19s\n",
      "574:\tlearn: 0.2512660\ttotal: 25.7s\tremaining: 19s\n",
      "575:\tlearn: 0.2512332\ttotal: 25.7s\tremaining: 19s\n",
      "576:\tlearn: 0.2511727\ttotal: 25.8s\tremaining: 18.9s\n",
      "577:\tlearn: 0.2511499\ttotal: 25.8s\tremaining: 18.8s\n",
      "578:\tlearn: 0.2511035\ttotal: 25.8s\tremaining: 18.8s\n",
      "579:\tlearn: 0.2510677\ttotal: 25.9s\tremaining: 18.8s\n",
      "580:\tlearn: 0.2510324\ttotal: 25.9s\tremaining: 18.7s\n",
      "581:\tlearn: 0.2510130\ttotal: 26s\tremaining: 18.7s\n",
      "582:\tlearn: 0.2509834\ttotal: 26s\tremaining: 18.6s\n",
      "583:\tlearn: 0.2509451\ttotal: 26.1s\tremaining: 18.6s\n",
      "584:\tlearn: 0.2508915\ttotal: 26.1s\tremaining: 18.5s\n",
      "585:\tlearn: 0.2508175\ttotal: 26.1s\tremaining: 18.5s\n",
      "586:\tlearn: 0.2507767\ttotal: 26.2s\tremaining: 18.4s\n",
      "587:\tlearn: 0.2507130\ttotal: 26.2s\tremaining: 18.4s\n",
      "588:\tlearn: 0.2506458\ttotal: 26.3s\tremaining: 18.3s\n",
      "589:\tlearn: 0.2505561\ttotal: 26.3s\tremaining: 18.3s\n",
      "590:\tlearn: 0.2505329\ttotal: 26.3s\tremaining: 18.2s\n",
      "591:\tlearn: 0.2504324\ttotal: 26.4s\tremaining: 18.2s\n",
      "592:\tlearn: 0.2503908\ttotal: 26.4s\tremaining: 18.1s\n",
      "593:\tlearn: 0.2503342\ttotal: 26.5s\tremaining: 18.1s\n",
      "594:\tlearn: 0.2502852\ttotal: 26.5s\tremaining: 18s\n",
      "595:\tlearn: 0.2502390\ttotal: 26.5s\tremaining: 18s\n",
      "596:\tlearn: 0.2501479\ttotal: 26.6s\tremaining: 17.9s\n",
      "597:\tlearn: 0.2501031\ttotal: 26.6s\tremaining: 17.9s\n",
      "598:\tlearn: 0.2500228\ttotal: 26.7s\tremaining: 17.9s\n",
      "599:\tlearn: 0.2499567\ttotal: 26.7s\tremaining: 17.8s\n",
      "600:\tlearn: 0.2499319\ttotal: 26.7s\tremaining: 17.8s\n",
      "601:\tlearn: 0.2498829\ttotal: 26.8s\tremaining: 17.7s\n",
      "602:\tlearn: 0.2498433\ttotal: 26.8s\tremaining: 17.7s\n",
      "603:\tlearn: 0.2498395\ttotal: 26.9s\tremaining: 17.6s\n",
      "604:\tlearn: 0.2497971\ttotal: 26.9s\tremaining: 17.6s\n",
      "605:\tlearn: 0.2497500\ttotal: 27s\tremaining: 17.5s\n",
      "606:\tlearn: 0.2497247\ttotal: 27s\tremaining: 17.5s\n",
      "607:\tlearn: 0.2496730\ttotal: 27.1s\tremaining: 17.5s\n",
      "608:\tlearn: 0.2496164\ttotal: 27.1s\tremaining: 17.4s\n",
      "609:\tlearn: 0.2495961\ttotal: 27.2s\tremaining: 17.4s\n",
      "610:\tlearn: 0.2495801\ttotal: 27.2s\tremaining: 17.3s\n",
      "611:\tlearn: 0.2495333\ttotal: 27.3s\tremaining: 17.3s\n",
      "612:\tlearn: 0.2494845\ttotal: 27.3s\tremaining: 17.2s\n",
      "613:\tlearn: 0.2494060\ttotal: 27.4s\tremaining: 17.2s\n",
      "614:\tlearn: 0.2493832\ttotal: 27.4s\tremaining: 17.2s\n",
      "615:\tlearn: 0.2493572\ttotal: 27.4s\tremaining: 17.1s\n",
      "616:\tlearn: 0.2493164\ttotal: 27.5s\tremaining: 17.1s\n",
      "617:\tlearn: 0.2492650\ttotal: 27.6s\tremaining: 17s\n",
      "618:\tlearn: 0.2492119\ttotal: 27.6s\tremaining: 17s\n",
      "619:\tlearn: 0.2491847\ttotal: 27.6s\tremaining: 16.9s\n",
      "620:\tlearn: 0.2491303\ttotal: 27.7s\tremaining: 16.9s\n",
      "621:\tlearn: 0.2491002\ttotal: 27.7s\tremaining: 16.8s\n",
      "622:\tlearn: 0.2490614\ttotal: 27.7s\tremaining: 16.8s\n",
      "623:\tlearn: 0.2490196\ttotal: 27.8s\tremaining: 16.7s\n",
      "624:\tlearn: 0.2489663\ttotal: 27.8s\tremaining: 16.7s\n",
      "625:\tlearn: 0.2489460\ttotal: 27.9s\tremaining: 16.7s\n",
      "626:\tlearn: 0.2489134\ttotal: 28s\tremaining: 16.6s\n",
      "627:\tlearn: 0.2488557\ttotal: 28s\tremaining: 16.6s\n",
      "628:\tlearn: 0.2488070\ttotal: 28.1s\tremaining: 16.6s\n",
      "629:\tlearn: 0.2487789\ttotal: 28.1s\tremaining: 16.5s\n",
      "630:\tlearn: 0.2487295\ttotal: 28.2s\tremaining: 16.5s\n",
      "631:\tlearn: 0.2486802\ttotal: 28.2s\tremaining: 16.4s\n",
      "632:\tlearn: 0.2486236\ttotal: 28.2s\tremaining: 16.4s\n",
      "633:\tlearn: 0.2485886\ttotal: 28.3s\tremaining: 16.3s\n",
      "634:\tlearn: 0.2485409\ttotal: 28.3s\tremaining: 16.3s\n",
      "635:\tlearn: 0.2484983\ttotal: 28.3s\tremaining: 16.2s\n",
      "636:\tlearn: 0.2484721\ttotal: 28.4s\tremaining: 16.2s\n",
      "637:\tlearn: 0.2484220\ttotal: 28.4s\tremaining: 16.1s\n",
      "638:\tlearn: 0.2483968\ttotal: 28.5s\tremaining: 16.1s\n",
      "639:\tlearn: 0.2483939\ttotal: 28.5s\tremaining: 16s\n",
      "640:\tlearn: 0.2483709\ttotal: 28.5s\tremaining: 16s\n",
      "641:\tlearn: 0.2483495\ttotal: 28.5s\tremaining: 15.9s\n",
      "642:\tlearn: 0.2483045\ttotal: 28.6s\tremaining: 15.9s\n",
      "643:\tlearn: 0.2482222\ttotal: 28.6s\tremaining: 15.8s\n",
      "644:\tlearn: 0.2481525\ttotal: 28.7s\tremaining: 15.8s\n",
      "645:\tlearn: 0.2481240\ttotal: 28.7s\tremaining: 15.7s\n",
      "646:\tlearn: 0.2480542\ttotal: 28.8s\tremaining: 15.7s\n",
      "647:\tlearn: 0.2480136\ttotal: 28.8s\tremaining: 15.6s\n"
     ]
    },
    {
     "name": "stdout",
     "output_type": "stream",
     "text": [
      "648:\tlearn: 0.2479965\ttotal: 28.8s\tremaining: 15.6s\n",
      "649:\tlearn: 0.2479733\ttotal: 28.9s\tremaining: 15.6s\n",
      "650:\tlearn: 0.2479413\ttotal: 28.9s\tremaining: 15.5s\n",
      "651:\tlearn: 0.2478870\ttotal: 29s\tremaining: 15.5s\n",
      "652:\tlearn: 0.2478667\ttotal: 29s\tremaining: 15.4s\n",
      "653:\tlearn: 0.2478282\ttotal: 29s\tremaining: 15.4s\n",
      "654:\tlearn: 0.2477823\ttotal: 29.1s\tremaining: 15.3s\n",
      "655:\tlearn: 0.2477499\ttotal: 29.1s\tremaining: 15.3s\n",
      "656:\tlearn: 0.2477469\ttotal: 29.1s\tremaining: 15.2s\n",
      "657:\tlearn: 0.2477044\ttotal: 29.2s\tremaining: 15.2s\n",
      "658:\tlearn: 0.2476755\ttotal: 29.2s\tremaining: 15.1s\n",
      "659:\tlearn: 0.2476362\ttotal: 29.2s\tremaining: 15.1s\n",
      "660:\tlearn: 0.2476063\ttotal: 29.3s\tremaining: 15s\n",
      "661:\tlearn: 0.2475923\ttotal: 29.3s\tremaining: 15s\n",
      "662:\tlearn: 0.2475661\ttotal: 29.4s\tremaining: 14.9s\n",
      "663:\tlearn: 0.2475458\ttotal: 29.5s\tremaining: 14.9s\n",
      "664:\tlearn: 0.2475345\ttotal: 29.5s\tremaining: 14.9s\n",
      "665:\tlearn: 0.2475009\ttotal: 29.6s\tremaining: 14.8s\n",
      "666:\tlearn: 0.2474655\ttotal: 29.7s\tremaining: 14.8s\n",
      "667:\tlearn: 0.2474304\ttotal: 29.8s\tremaining: 14.8s\n",
      "668:\tlearn: 0.2474058\ttotal: 29.8s\tremaining: 14.7s\n",
      "669:\tlearn: 0.2473515\ttotal: 29.9s\tremaining: 14.7s\n",
      "670:\tlearn: 0.2473313\ttotal: 29.9s\tremaining: 14.7s\n",
      "671:\tlearn: 0.2472831\ttotal: 30s\tremaining: 14.6s\n",
      "672:\tlearn: 0.2472544\ttotal: 30.1s\tremaining: 14.6s\n",
      "673:\tlearn: 0.2472147\ttotal: 30.1s\tremaining: 14.6s\n",
      "674:\tlearn: 0.2471767\ttotal: 30.2s\tremaining: 14.5s\n",
      "675:\tlearn: 0.2471512\ttotal: 30.3s\tremaining: 14.5s\n",
      "676:\tlearn: 0.2471343\ttotal: 30.3s\tremaining: 14.5s\n",
      "677:\tlearn: 0.2470436\ttotal: 30.4s\tremaining: 14.4s\n",
      "678:\tlearn: 0.2470411\ttotal: 30.4s\tremaining: 14.4s\n",
      "679:\tlearn: 0.2469800\ttotal: 30.5s\tremaining: 14.3s\n",
      "680:\tlearn: 0.2469498\ttotal: 30.5s\tremaining: 14.3s\n",
      "681:\tlearn: 0.2469188\ttotal: 30.5s\tremaining: 14.2s\n",
      "682:\tlearn: 0.2468805\ttotal: 30.6s\tremaining: 14.2s\n",
      "683:\tlearn: 0.2468513\ttotal: 30.6s\tremaining: 14.1s\n",
      "684:\tlearn: 0.2468012\ttotal: 30.7s\tremaining: 14.1s\n",
      "685:\tlearn: 0.2467722\ttotal: 30.7s\tremaining: 14s\n",
      "686:\tlearn: 0.2467076\ttotal: 30.7s\tremaining: 14s\n",
      "687:\tlearn: 0.2466830\ttotal: 30.8s\tremaining: 14s\n",
      "688:\tlearn: 0.2466605\ttotal: 30.8s\tremaining: 13.9s\n",
      "689:\tlearn: 0.2466164\ttotal: 30.9s\tremaining: 13.9s\n",
      "690:\tlearn: 0.2465373\ttotal: 30.9s\tremaining: 13.8s\n",
      "691:\tlearn: 0.2464898\ttotal: 31s\tremaining: 13.8s\n",
      "692:\tlearn: 0.2464422\ttotal: 31s\tremaining: 13.7s\n",
      "693:\tlearn: 0.2463955\ttotal: 31.1s\tremaining: 13.7s\n",
      "694:\tlearn: 0.2463597\ttotal: 31.1s\tremaining: 13.7s\n",
      "695:\tlearn: 0.2463362\ttotal: 31.1s\tremaining: 13.6s\n",
      "696:\tlearn: 0.2463190\ttotal: 31.2s\tremaining: 13.6s\n",
      "697:\tlearn: 0.2462672\ttotal: 31.2s\tremaining: 13.5s\n",
      "698:\tlearn: 0.2462072\ttotal: 31.2s\tremaining: 13.5s\n",
      "699:\tlearn: 0.2461824\ttotal: 31.3s\tremaining: 13.4s\n",
      "700:\tlearn: 0.2461466\ttotal: 31.3s\tremaining: 13.4s\n",
      "701:\tlearn: 0.2461146\ttotal: 31.4s\tremaining: 13.3s\n",
      "702:\tlearn: 0.2460626\ttotal: 31.4s\tremaining: 13.3s\n",
      "703:\tlearn: 0.2459967\ttotal: 31.5s\tremaining: 13.2s\n",
      "704:\tlearn: 0.2459523\ttotal: 31.5s\tremaining: 13.2s\n",
      "705:\tlearn: 0.2458911\ttotal: 31.6s\tremaining: 13.1s\n",
      "706:\tlearn: 0.2458410\ttotal: 31.6s\tremaining: 13.1s\n",
      "707:\tlearn: 0.2457874\ttotal: 31.6s\tremaining: 13.1s\n",
      "708:\tlearn: 0.2457216\ttotal: 31.7s\tremaining: 13s\n",
      "709:\tlearn: 0.2456813\ttotal: 31.7s\tremaining: 13s\n",
      "710:\tlearn: 0.2456507\ttotal: 31.8s\tremaining: 12.9s\n",
      "711:\tlearn: 0.2456361\ttotal: 31.8s\tremaining: 12.9s\n",
      "712:\tlearn: 0.2456063\ttotal: 31.8s\tremaining: 12.8s\n",
      "713:\tlearn: 0.2455842\ttotal: 31.9s\tremaining: 12.8s\n",
      "714:\tlearn: 0.2455570\ttotal: 31.9s\tremaining: 12.7s\n",
      "715:\tlearn: 0.2455134\ttotal: 31.9s\tremaining: 12.7s\n",
      "716:\tlearn: 0.2454884\ttotal: 32s\tremaining: 12.6s\n",
      "717:\tlearn: 0.2454521\ttotal: 32s\tremaining: 12.6s\n",
      "718:\tlearn: 0.2454114\ttotal: 32.1s\tremaining: 12.5s\n",
      "719:\tlearn: 0.2453934\ttotal: 32.1s\tremaining: 12.5s\n",
      "720:\tlearn: 0.2453388\ttotal: 32.1s\tremaining: 12.4s\n",
      "721:\tlearn: 0.2452989\ttotal: 32.2s\tremaining: 12.4s\n",
      "722:\tlearn: 0.2452666\ttotal: 32.2s\tremaining: 12.3s\n",
      "723:\tlearn: 0.2452241\ttotal: 32.3s\tremaining: 12.3s\n",
      "724:\tlearn: 0.2452054\ttotal: 32.3s\tremaining: 12.3s\n",
      "725:\tlearn: 0.2451850\ttotal: 32.3s\tremaining: 12.2s\n",
      "726:\tlearn: 0.2451629\ttotal: 32.4s\tremaining: 12.2s\n",
      "727:\tlearn: 0.2451355\ttotal: 32.4s\tremaining: 12.1s\n",
      "728:\tlearn: 0.2450997\ttotal: 32.5s\tremaining: 12.1s\n",
      "729:\tlearn: 0.2450655\ttotal: 32.5s\tremaining: 12s\n",
      "730:\tlearn: 0.2450261\ttotal: 32.5s\tremaining: 12s\n",
      "731:\tlearn: 0.2449945\ttotal: 32.6s\tremaining: 11.9s\n",
      "732:\tlearn: 0.2449636\ttotal: 32.6s\tremaining: 11.9s\n",
      "733:\tlearn: 0.2449196\ttotal: 32.6s\tremaining: 11.8s\n",
      "734:\tlearn: 0.2448782\ttotal: 32.7s\tremaining: 11.8s\n",
      "735:\tlearn: 0.2448374\ttotal: 32.7s\tremaining: 11.7s\n",
      "736:\tlearn: 0.2448061\ttotal: 32.8s\tremaining: 11.7s\n",
      "737:\tlearn: 0.2447578\ttotal: 32.8s\tremaining: 11.6s\n",
      "738:\tlearn: 0.2447280\ttotal: 32.8s\tremaining: 11.6s\n",
      "739:\tlearn: 0.2446746\ttotal: 32.9s\tremaining: 11.6s\n",
      "740:\tlearn: 0.2446226\ttotal: 32.9s\tremaining: 11.5s\n",
      "741:\tlearn: 0.2445758\ttotal: 33s\tremaining: 11.5s\n",
      "742:\tlearn: 0.2445246\ttotal: 33s\tremaining: 11.4s\n",
      "743:\tlearn: 0.2444617\ttotal: 33s\tremaining: 11.4s\n",
      "744:\tlearn: 0.2443946\ttotal: 33.1s\tremaining: 11.3s\n",
      "745:\tlearn: 0.2443424\ttotal: 33.1s\tremaining: 11.3s\n",
      "746:\tlearn: 0.2443185\ttotal: 33.2s\tremaining: 11.2s\n",
      "747:\tlearn: 0.2442445\ttotal: 33.2s\tremaining: 11.2s\n",
      "748:\tlearn: 0.2441940\ttotal: 33.3s\tremaining: 11.1s\n",
      "749:\tlearn: 0.2441122\ttotal: 33.3s\tremaining: 11.1s\n",
      "750:\tlearn: 0.2440904\ttotal: 33.3s\tremaining: 11.1s\n",
      "751:\tlearn: 0.2440580\ttotal: 33.4s\tremaining: 11s\n",
      "752:\tlearn: 0.2439919\ttotal: 33.4s\tremaining: 11s\n",
      "753:\tlearn: 0.2439675\ttotal: 33.5s\tremaining: 10.9s\n",
      "754:\tlearn: 0.2439036\ttotal: 33.5s\tremaining: 10.9s\n",
      "755:\tlearn: 0.2438783\ttotal: 33.5s\tremaining: 10.8s\n",
      "756:\tlearn: 0.2438454\ttotal: 33.6s\tremaining: 10.8s\n",
      "757:\tlearn: 0.2438145\ttotal: 33.6s\tremaining: 10.7s\n",
      "758:\tlearn: 0.2438108\ttotal: 33.6s\tremaining: 10.7s\n",
      "759:\tlearn: 0.2437491\ttotal: 33.7s\tremaining: 10.6s\n",
      "760:\tlearn: 0.2437192\ttotal: 33.7s\tremaining: 10.6s\n",
      "761:\tlearn: 0.2437018\ttotal: 33.8s\tremaining: 10.5s\n",
      "762:\tlearn: 0.2436588\ttotal: 33.8s\tremaining: 10.5s\n",
      "763:\tlearn: 0.2436146\ttotal: 33.8s\tremaining: 10.4s\n",
      "764:\tlearn: 0.2435450\ttotal: 33.9s\tremaining: 10.4s\n",
      "765:\tlearn: 0.2435038\ttotal: 33.9s\tremaining: 10.4s\n",
      "766:\tlearn: 0.2434828\ttotal: 33.9s\tremaining: 10.3s\n",
      "767:\tlearn: 0.2434168\ttotal: 34s\tremaining: 10.3s\n",
      "768:\tlearn: 0.2433668\ttotal: 34s\tremaining: 10.2s\n",
      "769:\tlearn: 0.2433348\ttotal: 34.1s\tremaining: 10.2s\n",
      "770:\tlearn: 0.2433216\ttotal: 34.1s\tremaining: 10.1s\n",
      "771:\tlearn: 0.2432840\ttotal: 34.2s\tremaining: 10.1s\n",
      "772:\tlearn: 0.2432808\ttotal: 34.2s\tremaining: 10s\n",
      "773:\tlearn: 0.2432358\ttotal: 34.2s\tremaining: 9.99s\n",
      "774:\tlearn: 0.2432001\ttotal: 34.3s\tremaining: 9.95s\n",
      "775:\tlearn: 0.2431210\ttotal: 34.3s\tremaining: 9.9s\n",
      "776:\tlearn: 0.2430870\ttotal: 34.3s\tremaining: 9.86s\n",
      "777:\tlearn: 0.2430581\ttotal: 34.4s\tremaining: 9.82s\n",
      "778:\tlearn: 0.2430178\ttotal: 34.5s\tremaining: 9.78s\n",
      "779:\tlearn: 0.2429701\ttotal: 34.5s\tremaining: 9.73s\n",
      "780:\tlearn: 0.2429066\ttotal: 34.5s\tremaining: 9.68s\n",
      "781:\tlearn: 0.2428715\ttotal: 34.6s\tremaining: 9.64s\n",
      "782:\tlearn: 0.2428334\ttotal: 34.6s\tremaining: 9.6s\n",
      "783:\tlearn: 0.2427869\ttotal: 34.7s\tremaining: 9.56s\n",
      "784:\tlearn: 0.2427267\ttotal: 34.7s\tremaining: 9.51s\n",
      "785:\tlearn: 0.2426893\ttotal: 34.8s\tremaining: 9.46s\n",
      "786:\tlearn: 0.2426499\ttotal: 34.8s\tremaining: 9.42s\n",
      "787:\tlearn: 0.2426079\ttotal: 34.8s\tremaining: 9.37s\n",
      "788:\tlearn: 0.2425924\ttotal: 34.9s\tremaining: 9.33s\n",
      "789:\tlearn: 0.2425638\ttotal: 34.9s\tremaining: 9.29s\n",
      "790:\tlearn: 0.2425444\ttotal: 35s\tremaining: 9.24s\n",
      "791:\tlearn: 0.2424827\ttotal: 35s\tremaining: 9.19s\n",
      "792:\tlearn: 0.2424515\ttotal: 35s\tremaining: 9.14s\n",
      "793:\tlearn: 0.2424095\ttotal: 35.1s\tremaining: 9.1s\n",
      "794:\tlearn: 0.2423739\ttotal: 35.1s\tremaining: 9.05s\n",
      "795:\tlearn: 0.2423446\ttotal: 35.2s\tremaining: 9.01s\n",
      "796:\tlearn: 0.2423035\ttotal: 35.2s\tremaining: 8.97s\n",
      "797:\tlearn: 0.2422731\ttotal: 35.2s\tremaining: 8.92s\n",
      "798:\tlearn: 0.2422510\ttotal: 35.3s\tremaining: 8.87s\n",
      "799:\tlearn: 0.2422216\ttotal: 35.3s\tremaining: 8.82s\n",
      "800:\tlearn: 0.2421921\ttotal: 35.4s\tremaining: 8.79s\n",
      "801:\tlearn: 0.2421581\ttotal: 35.4s\tremaining: 8.75s\n",
      "802:\tlearn: 0.2421134\ttotal: 35.5s\tremaining: 8.7s\n",
      "803:\tlearn: 0.2421121\ttotal: 35.5s\tremaining: 8.65s\n",
      "804:\tlearn: 0.2420736\ttotal: 35.5s\tremaining: 8.6s\n",
      "805:\tlearn: 0.2419797\ttotal: 35.6s\tremaining: 8.56s\n",
      "806:\tlearn: 0.2419611\ttotal: 35.6s\tremaining: 8.51s\n",
      "807:\tlearn: 0.2419344\ttotal: 35.6s\tremaining: 8.47s\n",
      "808:\tlearn: 0.2419206\ttotal: 35.7s\tremaining: 8.42s\n",
      "809:\tlearn: 0.2418914\ttotal: 35.7s\tremaining: 8.38s\n",
      "810:\tlearn: 0.2418577\ttotal: 35.8s\tremaining: 8.33s\n"
     ]
    },
    {
     "name": "stdout",
     "output_type": "stream",
     "text": [
      "811:\tlearn: 0.2418408\ttotal: 35.8s\tremaining: 8.29s\n",
      "812:\tlearn: 0.2417980\ttotal: 35.8s\tremaining: 8.24s\n",
      "813:\tlearn: 0.2417504\ttotal: 35.9s\tremaining: 8.2s\n",
      "814:\tlearn: 0.2417096\ttotal: 35.9s\tremaining: 8.16s\n",
      "815:\tlearn: 0.2416820\ttotal: 36s\tremaining: 8.11s\n",
      "816:\tlearn: 0.2416549\ttotal: 36s\tremaining: 8.07s\n",
      "817:\tlearn: 0.2416090\ttotal: 36.1s\tremaining: 8.03s\n",
      "818:\tlearn: 0.2415930\ttotal: 36.1s\tremaining: 7.99s\n",
      "819:\tlearn: 0.2415736\ttotal: 36.2s\tremaining: 7.94s\n",
      "820:\tlearn: 0.2415627\ttotal: 36.2s\tremaining: 7.89s\n",
      "821:\tlearn: 0.2415395\ttotal: 36.2s\tremaining: 7.85s\n",
      "822:\tlearn: 0.2415028\ttotal: 36.3s\tremaining: 7.8s\n",
      "823:\tlearn: 0.2414520\ttotal: 36.3s\tremaining: 7.76s\n",
      "824:\tlearn: 0.2414288\ttotal: 36.4s\tremaining: 7.72s\n",
      "825:\tlearn: 0.2413613\ttotal: 36.4s\tremaining: 7.67s\n",
      "826:\tlearn: 0.2413148\ttotal: 36.5s\tremaining: 7.63s\n",
      "827:\tlearn: 0.2412818\ttotal: 36.5s\tremaining: 7.59s\n",
      "828:\tlearn: 0.2412491\ttotal: 36.6s\tremaining: 7.54s\n",
      "829:\tlearn: 0.2412084\ttotal: 36.6s\tremaining: 7.5s\n",
      "830:\tlearn: 0.2411569\ttotal: 36.6s\tremaining: 7.45s\n",
      "831:\tlearn: 0.2411187\ttotal: 36.7s\tremaining: 7.41s\n",
      "832:\tlearn: 0.2410650\ttotal: 36.7s\tremaining: 7.36s\n",
      "833:\tlearn: 0.2410426\ttotal: 36.8s\tremaining: 7.32s\n",
      "834:\tlearn: 0.2410136\ttotal: 36.8s\tremaining: 7.27s\n",
      "835:\tlearn: 0.2409792\ttotal: 36.8s\tremaining: 7.23s\n",
      "836:\tlearn: 0.2409331\ttotal: 36.9s\tremaining: 7.18s\n",
      "837:\tlearn: 0.2408561\ttotal: 36.9s\tremaining: 7.13s\n",
      "838:\tlearn: 0.2408112\ttotal: 36.9s\tremaining: 7.09s\n",
      "839:\tlearn: 0.2407911\ttotal: 37s\tremaining: 7.05s\n",
      "840:\tlearn: 0.2407245\ttotal: 37.1s\tremaining: 7.01s\n",
      "841:\tlearn: 0.2406482\ttotal: 37.1s\tremaining: 6.96s\n",
      "842:\tlearn: 0.2405959\ttotal: 37.1s\tremaining: 6.92s\n",
      "843:\tlearn: 0.2405587\ttotal: 37.2s\tremaining: 6.87s\n",
      "844:\tlearn: 0.2405313\ttotal: 37.2s\tremaining: 6.82s\n",
      "845:\tlearn: 0.2404951\ttotal: 37.3s\tremaining: 6.79s\n",
      "846:\tlearn: 0.2404713\ttotal: 37.3s\tremaining: 6.74s\n",
      "847:\tlearn: 0.2404343\ttotal: 37.4s\tremaining: 6.7s\n",
      "848:\tlearn: 0.2403827\ttotal: 37.4s\tremaining: 6.65s\n",
      "849:\tlearn: 0.2403129\ttotal: 37.4s\tremaining: 6.61s\n",
      "850:\tlearn: 0.2402885\ttotal: 37.5s\tremaining: 6.56s\n",
      "851:\tlearn: 0.2402472\ttotal: 37.6s\tremaining: 6.52s\n",
      "852:\tlearn: 0.2402052\ttotal: 37.6s\tremaining: 6.48s\n",
      "853:\tlearn: 0.2401350\ttotal: 37.6s\tremaining: 6.43s\n",
      "854:\tlearn: 0.2401072\ttotal: 37.7s\tremaining: 6.39s\n",
      "855:\tlearn: 0.2400680\ttotal: 37.7s\tremaining: 6.34s\n",
      "856:\tlearn: 0.2400667\ttotal: 37.7s\tremaining: 6.29s\n",
      "857:\tlearn: 0.2400436\ttotal: 37.7s\tremaining: 6.25s\n",
      "858:\tlearn: 0.2400188\ttotal: 37.8s\tremaining: 6.2s\n",
      "859:\tlearn: 0.2399621\ttotal: 37.8s\tremaining: 6.16s\n",
      "860:\tlearn: 0.2399430\ttotal: 37.9s\tremaining: 6.12s\n",
      "861:\tlearn: 0.2399160\ttotal: 37.9s\tremaining: 6.07s\n",
      "862:\tlearn: 0.2399031\ttotal: 37.9s\tremaining: 6.02s\n",
      "863:\tlearn: 0.2398870\ttotal: 38s\tremaining: 5.97s\n",
      "864:\tlearn: 0.2398615\ttotal: 38s\tremaining: 5.93s\n",
      "865:\tlearn: 0.2398046\ttotal: 38s\tremaining: 5.89s\n",
      "866:\tlearn: 0.2397732\ttotal: 38.1s\tremaining: 5.84s\n",
      "867:\tlearn: 0.2397586\ttotal: 38.1s\tremaining: 5.8s\n",
      "868:\tlearn: 0.2397195\ttotal: 38.2s\tremaining: 5.75s\n",
      "869:\tlearn: 0.2396849\ttotal: 38.2s\tremaining: 5.71s\n",
      "870:\tlearn: 0.2396215\ttotal: 38.3s\tremaining: 5.67s\n",
      "871:\tlearn: 0.2395831\ttotal: 38.3s\tremaining: 5.62s\n",
      "872:\tlearn: 0.2395629\ttotal: 38.3s\tremaining: 5.58s\n",
      "873:\tlearn: 0.2395359\ttotal: 38.4s\tremaining: 5.53s\n",
      "874:\tlearn: 0.2394878\ttotal: 38.4s\tremaining: 5.49s\n",
      "875:\tlearn: 0.2394230\ttotal: 38.5s\tremaining: 5.44s\n",
      "876:\tlearn: 0.2393566\ttotal: 38.5s\tremaining: 5.4s\n",
      "877:\tlearn: 0.2393266\ttotal: 38.6s\tremaining: 5.36s\n",
      "878:\tlearn: 0.2393249\ttotal: 38.6s\tremaining: 5.31s\n",
      "879:\tlearn: 0.2392948\ttotal: 38.6s\tremaining: 5.26s\n",
      "880:\tlearn: 0.2392567\ttotal: 38.6s\tremaining: 5.22s\n",
      "881:\tlearn: 0.2392182\ttotal: 38.7s\tremaining: 5.18s\n",
      "882:\tlearn: 0.2391565\ttotal: 38.8s\tremaining: 5.14s\n",
      "883:\tlearn: 0.2391299\ttotal: 38.8s\tremaining: 5.09s\n",
      "884:\tlearn: 0.2391060\ttotal: 38.8s\tremaining: 5.05s\n",
      "885:\tlearn: 0.2390695\ttotal: 38.9s\tremaining: 5s\n",
      "886:\tlearn: 0.2390223\ttotal: 38.9s\tremaining: 4.96s\n",
      "887:\tlearn: 0.2389386\ttotal: 39s\tremaining: 4.92s\n",
      "888:\tlearn: 0.2389040\ttotal: 39s\tremaining: 4.87s\n",
      "889:\tlearn: 0.2388847\ttotal: 39.1s\tremaining: 4.83s\n",
      "890:\tlearn: 0.2388535\ttotal: 39.1s\tremaining: 4.78s\n",
      "891:\tlearn: 0.2388172\ttotal: 39.2s\tremaining: 4.74s\n",
      "892:\tlearn: 0.2387527\ttotal: 39.2s\tremaining: 4.7s\n",
      "893:\tlearn: 0.2387241\ttotal: 39.3s\tremaining: 4.66s\n",
      "894:\tlearn: 0.2387179\ttotal: 39.3s\tremaining: 4.62s\n",
      "895:\tlearn: 0.2386821\ttotal: 39.4s\tremaining: 4.57s\n",
      "896:\tlearn: 0.2386431\ttotal: 39.4s\tremaining: 4.53s\n",
      "897:\tlearn: 0.2386172\ttotal: 39.5s\tremaining: 4.49s\n",
      "898:\tlearn: 0.2385605\ttotal: 39.5s\tremaining: 4.44s\n",
      "899:\tlearn: 0.2385040\ttotal: 39.6s\tremaining: 4.4s\n",
      "900:\tlearn: 0.2384688\ttotal: 39.6s\tremaining: 4.35s\n",
      "901:\tlearn: 0.2384144\ttotal: 39.7s\tremaining: 4.31s\n",
      "902:\tlearn: 0.2384033\ttotal: 39.7s\tremaining: 4.26s\n",
      "903:\tlearn: 0.2383646\ttotal: 39.7s\tremaining: 4.22s\n",
      "904:\tlearn: 0.2383113\ttotal: 39.8s\tremaining: 4.18s\n",
      "905:\tlearn: 0.2382705\ttotal: 39.8s\tremaining: 4.13s\n",
      "906:\tlearn: 0.2382390\ttotal: 39.9s\tremaining: 4.09s\n",
      "907:\tlearn: 0.2382382\ttotal: 39.9s\tremaining: 4.04s\n",
      "908:\tlearn: 0.2381855\ttotal: 39.9s\tremaining: 4s\n",
      "909:\tlearn: 0.2381503\ttotal: 40s\tremaining: 3.95s\n",
      "910:\tlearn: 0.2381160\ttotal: 40s\tremaining: 3.91s\n",
      "911:\tlearn: 0.2380917\ttotal: 40s\tremaining: 3.86s\n",
      "912:\tlearn: 0.2380204\ttotal: 40.1s\tremaining: 3.82s\n",
      "913:\tlearn: 0.2379874\ttotal: 40.1s\tremaining: 3.77s\n",
      "914:\tlearn: 0.2379492\ttotal: 40.2s\tremaining: 3.73s\n",
      "915:\tlearn: 0.2379324\ttotal: 40.2s\tremaining: 3.69s\n",
      "916:\tlearn: 0.2378894\ttotal: 40.2s\tremaining: 3.64s\n",
      "917:\tlearn: 0.2378444\ttotal: 40.3s\tremaining: 3.6s\n",
      "918:\tlearn: 0.2378239\ttotal: 40.3s\tremaining: 3.55s\n",
      "919:\tlearn: 0.2378038\ttotal: 40.3s\tremaining: 3.51s\n",
      "920:\tlearn: 0.2377398\ttotal: 40.4s\tremaining: 3.46s\n",
      "921:\tlearn: 0.2376902\ttotal: 40.5s\tremaining: 3.42s\n",
      "922:\tlearn: 0.2376575\ttotal: 40.5s\tremaining: 3.38s\n",
      "923:\tlearn: 0.2376131\ttotal: 40.5s\tremaining: 3.33s\n",
      "924:\tlearn: 0.2375789\ttotal: 40.6s\tremaining: 3.29s\n",
      "925:\tlearn: 0.2375574\ttotal: 40.6s\tremaining: 3.25s\n",
      "926:\tlearn: 0.2375056\ttotal: 40.7s\tremaining: 3.2s\n",
      "927:\tlearn: 0.2374639\ttotal: 40.7s\tremaining: 3.16s\n",
      "928:\tlearn: 0.2374371\ttotal: 40.7s\tremaining: 3.11s\n",
      "929:\tlearn: 0.2374170\ttotal: 40.8s\tremaining: 3.07s\n",
      "930:\tlearn: 0.2373575\ttotal: 40.8s\tremaining: 3.02s\n",
      "931:\tlearn: 0.2373470\ttotal: 40.9s\tremaining: 2.98s\n",
      "932:\tlearn: 0.2373180\ttotal: 40.9s\tremaining: 2.94s\n",
      "933:\tlearn: 0.2372718\ttotal: 41s\tremaining: 2.89s\n",
      "934:\tlearn: 0.2372363\ttotal: 41s\tremaining: 2.85s\n",
      "935:\tlearn: 0.2371983\ttotal: 41.1s\tremaining: 2.81s\n",
      "936:\tlearn: 0.2371421\ttotal: 41.1s\tremaining: 2.77s\n",
      "937:\tlearn: 0.2371123\ttotal: 41.2s\tremaining: 2.72s\n",
      "938:\tlearn: 0.2370433\ttotal: 41.3s\tremaining: 2.68s\n",
      "939:\tlearn: 0.2369999\ttotal: 41.4s\tremaining: 2.64s\n",
      "940:\tlearn: 0.2369686\ttotal: 41.4s\tremaining: 2.6s\n",
      "941:\tlearn: 0.2369439\ttotal: 41.5s\tremaining: 2.56s\n",
      "942:\tlearn: 0.2369242\ttotal: 41.6s\tremaining: 2.51s\n",
      "943:\tlearn: 0.2368802\ttotal: 41.6s\tremaining: 2.47s\n",
      "944:\tlearn: 0.2368489\ttotal: 41.7s\tremaining: 2.43s\n",
      "945:\tlearn: 0.2368297\ttotal: 41.8s\tremaining: 2.38s\n",
      "946:\tlearn: 0.2367968\ttotal: 41.8s\tremaining: 2.34s\n",
      "947:\tlearn: 0.2367753\ttotal: 41.9s\tremaining: 2.3s\n",
      "948:\tlearn: 0.2367054\ttotal: 42s\tremaining: 2.25s\n",
      "949:\tlearn: 0.2366326\ttotal: 42s\tremaining: 2.21s\n",
      "950:\tlearn: 0.2366064\ttotal: 42.1s\tremaining: 2.17s\n",
      "951:\tlearn: 0.2365498\ttotal: 42.1s\tremaining: 2.12s\n",
      "952:\tlearn: 0.2364835\ttotal: 42.2s\tremaining: 2.08s\n",
      "953:\tlearn: 0.2364503\ttotal: 42.2s\tremaining: 2.03s\n",
      "954:\tlearn: 0.2364087\ttotal: 42.2s\tremaining: 1.99s\n",
      "955:\tlearn: 0.2364036\ttotal: 42.3s\tremaining: 1.95s\n",
      "956:\tlearn: 0.2363685\ttotal: 42.3s\tremaining: 1.9s\n",
      "957:\tlearn: 0.2363444\ttotal: 42.4s\tremaining: 1.86s\n",
      "958:\tlearn: 0.2363087\ttotal: 42.4s\tremaining: 1.81s\n",
      "959:\tlearn: 0.2362814\ttotal: 42.4s\tremaining: 1.77s\n",
      "960:\tlearn: 0.2362605\ttotal: 42.5s\tremaining: 1.72s\n",
      "961:\tlearn: 0.2362381\ttotal: 42.5s\tremaining: 1.68s\n",
      "962:\tlearn: 0.2362159\ttotal: 42.5s\tremaining: 1.63s\n",
      "963:\tlearn: 0.2361641\ttotal: 42.6s\tremaining: 1.59s\n",
      "964:\tlearn: 0.2361408\ttotal: 42.6s\tremaining: 1.55s\n",
      "965:\tlearn: 0.2360670\ttotal: 42.7s\tremaining: 1.5s\n",
      "966:\tlearn: 0.2360403\ttotal: 42.7s\tremaining: 1.46s\n",
      "967:\tlearn: 0.2359891\ttotal: 42.8s\tremaining: 1.41s\n",
      "968:\tlearn: 0.2359633\ttotal: 42.8s\tremaining: 1.37s\n",
      "969:\tlearn: 0.2359440\ttotal: 42.9s\tremaining: 1.32s\n",
      "970:\tlearn: 0.2359205\ttotal: 42.9s\tremaining: 1.28s\n"
     ]
    },
    {
     "name": "stdout",
     "output_type": "stream",
     "text": [
      "971:\tlearn: 0.2358899\ttotal: 42.9s\tremaining: 1.24s\n",
      "972:\tlearn: 0.2358228\ttotal: 43s\tremaining: 1.19s\n",
      "973:\tlearn: 0.2357953\ttotal: 43s\tremaining: 1.15s\n",
      "974:\tlearn: 0.2357468\ttotal: 43.1s\tremaining: 1.1s\n",
      "975:\tlearn: 0.2356685\ttotal: 43.1s\tremaining: 1.06s\n",
      "976:\tlearn: 0.2356459\ttotal: 43.1s\tremaining: 1.01s\n",
      "977:\tlearn: 0.2356061\ttotal: 43.2s\tremaining: 972ms\n",
      "978:\tlearn: 0.2355654\ttotal: 43.3s\tremaining: 928ms\n",
      "979:\tlearn: 0.2355307\ttotal: 43.3s\tremaining: 884ms\n",
      "980:\tlearn: 0.2354965\ttotal: 43.3s\tremaining: 839ms\n",
      "981:\tlearn: 0.2354653\ttotal: 43.4s\tremaining: 795ms\n",
      "982:\tlearn: 0.2354331\ttotal: 43.4s\tremaining: 751ms\n",
      "983:\tlearn: 0.2354167\ttotal: 43.5s\tremaining: 707ms\n",
      "984:\tlearn: 0.2353893\ttotal: 43.5s\tremaining: 663ms\n",
      "985:\tlearn: 0.2353639\ttotal: 43.5s\tremaining: 618ms\n",
      "986:\tlearn: 0.2353160\ttotal: 43.6s\tremaining: 574ms\n",
      "987:\tlearn: 0.2353006\ttotal: 43.6s\tremaining: 530ms\n",
      "988:\tlearn: 0.2352698\ttotal: 43.7s\tremaining: 486ms\n",
      "989:\tlearn: 0.2352120\ttotal: 43.7s\tremaining: 442ms\n",
      "990:\tlearn: 0.2351660\ttotal: 43.8s\tremaining: 397ms\n",
      "991:\tlearn: 0.2350781\ttotal: 43.8s\tremaining: 353ms\n",
      "992:\tlearn: 0.2350412\ttotal: 43.8s\tremaining: 309ms\n",
      "993:\tlearn: 0.2349912\ttotal: 43.9s\tremaining: 265ms\n",
      "994:\tlearn: 0.2349036\ttotal: 43.9s\tremaining: 221ms\n",
      "995:\tlearn: 0.2348488\ttotal: 44s\tremaining: 177ms\n",
      "996:\tlearn: 0.2348104\ttotal: 44s\tremaining: 132ms\n",
      "997:\tlearn: 0.2347764\ttotal: 44.1s\tremaining: 88.3ms\n",
      "998:\tlearn: 0.2347262\ttotal: 44.1s\tremaining: 44.2ms\n",
      "999:\tlearn: 0.2347000\ttotal: 44.2s\tremaining: 0us\n",
      "Error rate of CatBoost classifier:  0.10797024442082892\n"
     ]
    }
   ],
   "source": [
    "#create model\n",
    "\n",
    "model1 = CatBoostClassifier(iterations=1000, learning_rate=0.01, depth=9)\n",
    "\n",
    "# Fit model\n",
    "\n",
    "model1.fit(X_train,y_train)\n",
    "\n",
    "\n",
    "# Get predictions\n",
    "\n",
    "preds = model1.predict(X_test)\n",
    "\n",
    "# Get error rate\n",
    "\n",
    "print(\"Error rate of CatBoost classifier: \", 1 - accuracy_score(y_test, preds))\n",
    "\n",
    "# Get the predicted result for the test data\n",
    "\n",
    "pred1 = model1.predict(X_test_rescaled)"
   ]
  },
  {
   "cell_type": "markdown",
   "metadata": {},
   "source": [
    "#####  Weighted Average"
   ]
  },
  {
   "cell_type": "code",
   "execution_count": 158,
   "metadata": {},
   "outputs": [],
   "source": [
    "finalpred=(pred0*0.6+pred1*0.4)"
   ]
  },
  {
   "cell_type": "code",
   "execution_count": 159,
   "metadata": {},
   "outputs": [],
   "source": [
    "test_df.bank_account = finalpred"
   ]
  },
  {
   "cell_type": "code",
   "execution_count": 160,
   "metadata": {},
   "outputs": [],
   "source": [
    "# create submission DataFrame\n",
    "\n",
    "submission = pd.DataFrame({\"uniqueid\": test_df[\"uniqueid\"] + \" x \" + test_df[\"country\"],\"bank_account\": test_df.bank_account})"
   ]
  },
  {
   "cell_type": "code",
   "execution_count": 161,
   "metadata": {},
   "outputs": [],
   "source": [
    "# Create submission csv file\n",
    "\n",
    "filename = 'my_submission.csv'\n",
    "\n",
    "submission.to_csv(filename,index=False)"
   ]
  },
  {
   "cell_type": "code",
   "execution_count": null,
   "metadata": {},
   "outputs": [],
   "source": []
  }
 ],
 "metadata": {
  "kernelspec": {
   "display_name": "Python 3",
   "language": "python",
   "name": "python3"
  },
  "language_info": {
   "codemirror_mode": {
    "name": "ipython",
    "version": 3
   },
   "file_extension": ".py",
   "mimetype": "text/x-python",
   "name": "python",
   "nbconvert_exporter": "python",
   "pygments_lexer": "ipython3",
   "version": "3.7.3"
  }
 },
 "nbformat": 4,
 "nbformat_minor": 2
}
